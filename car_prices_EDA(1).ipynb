{
  "nbformat": 4,
  "nbformat_minor": 0,
  "metadata": {
    "colab": {
      "name": "car_prices_EDA.ipynb",
      "provenance": []
    },
    "kernelspec": {
      "display_name": "Python 3",
      "name": "python3"
    }
  },
  "cells": [
    {
      "cell_type": "code",
      "metadata": {
        "id": "eFDBhL7M6Ic-"
      },
      "source": [
        "import numpy as np\n",
        "import pandas as pd\n",
        "import matplotlib.pyplot as plt\n",
        "import seaborn as sns\n",
        "sns.set_theme()\n",
        "from scipy.stats import chi2_contingency\n"
      ],
      "execution_count": 1,
      "outputs": []
    },
    {
      "cell_type": "code",
      "metadata": {
        "id": "ksWXczi360SF"
      },
      "source": [
        "filepath='https://github.com/prabhupanda/ML-code/blob/master/cars_price.csv?raw=true'\n",
        "prices=pd.read_csv(filepath)"
      ],
      "execution_count": 2,
      "outputs": []
    },
    {
      "cell_type": "code",
      "metadata": {
        "id": "np_2gCyy7GPj",
        "colab": {
          "base_uri": "https://localhost:8080/",
          "height": 330
        },
        "outputId": "48e3e094-9a39-4e25-beb3-728cec4f9d47"
      },
      "source": [
        "prices.head()"
      ],
      "execution_count": 3,
      "outputs": [
        {
          "output_type": "execute_result",
          "data": {
            "text/html": [
              "<div>\n",
              "<style scoped>\n",
              "    .dataframe tbody tr th:only-of-type {\n",
              "        vertical-align: middle;\n",
              "    }\n",
              "\n",
              "    .dataframe tbody tr th {\n",
              "        vertical-align: top;\n",
              "    }\n",
              "\n",
              "    .dataframe thead th {\n",
              "        text-align: right;\n",
              "    }\n",
              "</style>\n",
              "<table border=\"1\" class=\"dataframe\">\n",
              "  <thead>\n",
              "    <tr style=\"text-align: right;\">\n",
              "      <th></th>\n",
              "      <th>Unnamed: 0</th>\n",
              "      <th>make</th>\n",
              "      <th>model</th>\n",
              "      <th>priceUSD</th>\n",
              "      <th>year</th>\n",
              "      <th>condition</th>\n",
              "      <th>mileage(kilometers)</th>\n",
              "      <th>fuel_type</th>\n",
              "      <th>volume(cm3)</th>\n",
              "      <th>color</th>\n",
              "      <th>transmission</th>\n",
              "      <th>drive_unit</th>\n",
              "      <th>segment</th>\n",
              "    </tr>\n",
              "  </thead>\n",
              "  <tbody>\n",
              "    <tr>\n",
              "      <th>0</th>\n",
              "      <td>0</td>\n",
              "      <td>honda</td>\n",
              "      <td>accord</td>\n",
              "      <td>565</td>\n",
              "      <td>1993</td>\n",
              "      <td>with mileage</td>\n",
              "      <td>960015.0</td>\n",
              "      <td>petrol</td>\n",
              "      <td>2000.0</td>\n",
              "      <td>black</td>\n",
              "      <td>mechanics</td>\n",
              "      <td>front-wheel drive</td>\n",
              "      <td>D</td>\n",
              "    </tr>\n",
              "    <tr>\n",
              "      <th>1</th>\n",
              "      <td>1</td>\n",
              "      <td>ford</td>\n",
              "      <td>fusion</td>\n",
              "      <td>5550</td>\n",
              "      <td>2008</td>\n",
              "      <td>with mileage</td>\n",
              "      <td>172000.0</td>\n",
              "      <td>diesel</td>\n",
              "      <td>1400.0</td>\n",
              "      <td>silver</td>\n",
              "      <td>mechanics</td>\n",
              "      <td>front-wheel drive</td>\n",
              "      <td>M</td>\n",
              "    </tr>\n",
              "    <tr>\n",
              "      <th>2</th>\n",
              "      <td>2</td>\n",
              "      <td>nissan</td>\n",
              "      <td>teana</td>\n",
              "      <td>8300</td>\n",
              "      <td>2008</td>\n",
              "      <td>with mileage</td>\n",
              "      <td>223000.0</td>\n",
              "      <td>petrol</td>\n",
              "      <td>2500.0</td>\n",
              "      <td>purple</td>\n",
              "      <td>auto</td>\n",
              "      <td>front-wheel drive</td>\n",
              "      <td>D</td>\n",
              "    </tr>\n",
              "    <tr>\n",
              "      <th>3</th>\n",
              "      <td>3</td>\n",
              "      <td>volkswagen</td>\n",
              "      <td>fox</td>\n",
              "      <td>3300</td>\n",
              "      <td>2005</td>\n",
              "      <td>with mileage</td>\n",
              "      <td>140000.0</td>\n",
              "      <td>petrol</td>\n",
              "      <td>1200.0</td>\n",
              "      <td>blue</td>\n",
              "      <td>mechanics</td>\n",
              "      <td>front-wheel drive</td>\n",
              "      <td>A</td>\n",
              "    </tr>\n",
              "    <tr>\n",
              "      <th>4</th>\n",
              "      <td>4</td>\n",
              "      <td>nissan</td>\n",
              "      <td>primera</td>\n",
              "      <td>2450</td>\n",
              "      <td>2002</td>\n",
              "      <td>with damage</td>\n",
              "      <td>413000.0</td>\n",
              "      <td>diesel</td>\n",
              "      <td>2200.0</td>\n",
              "      <td>burgundy</td>\n",
              "      <td>mechanics</td>\n",
              "      <td>front-wheel drive</td>\n",
              "      <td>D</td>\n",
              "    </tr>\n",
              "  </tbody>\n",
              "</table>\n",
              "</div>"
            ],
            "text/plain": [
              "   Unnamed: 0        make    model  ...  transmission         drive_unit segment\n",
              "0           0       honda   accord  ...     mechanics  front-wheel drive       D\n",
              "1           1        ford   fusion  ...     mechanics  front-wheel drive       M\n",
              "2           2      nissan    teana  ...          auto  front-wheel drive       D\n",
              "3           3  volkswagen      fox  ...     mechanics  front-wheel drive       A\n",
              "4           4      nissan  primera  ...     mechanics  front-wheel drive       D\n",
              "\n",
              "[5 rows x 13 columns]"
            ]
          },
          "metadata": {
            "tags": []
          },
          "execution_count": 3
        }
      ]
    },
    {
      "cell_type": "markdown",
      "metadata": {
        "id": "gB-73wp_8M2_"
      },
      "source": [
        "Number of Missing entries in the dataframe"
      ]
    },
    {
      "cell_type": "code",
      "metadata": {
        "id": "mBsjM91p7H7D",
        "colab": {
          "base_uri": "https://localhost:8080/"
        },
        "outputId": "30806226-7459-4219-e6f6-40f9d5cb0f3c"
      },
      "source": [
        "prices.isnull().sum(axis=0)"
      ],
      "execution_count": 4,
      "outputs": [
        {
          "output_type": "execute_result",
          "data": {
            "text/plain": [
              "Unnamed: 0                0\n",
              "make                      0\n",
              "model                     0\n",
              "priceUSD                  0\n",
              "year                      0\n",
              "condition                 0\n",
              "mileage(kilometers)       0\n",
              "fuel_type                 0\n",
              "volume(cm3)              30\n",
              "color                     0\n",
              "transmission              0\n",
              "drive_unit             1345\n",
              "segment                3755\n",
              "dtype: int64"
            ]
          },
          "metadata": {
            "tags": []
          },
          "execution_count": 4
        }
      ]
    },
    {
      "cell_type": "code",
      "metadata": {
        "id": "7SyWc_7MVUZd",
        "colab": {
          "base_uri": "https://localhost:8080/"
        },
        "outputId": "7b1b690e-5199-423d-b8f1-bd9bdd9e9cfe"
      },
      "source": [
        "print(\"No. of unique drive_units {}\".format(prices['drive_unit'].nunique()))\n",
        "prices['drive_unit'].value_counts(dropna=False)\n",
        "#with the highly skewed distribution towards the \"four wheel drive\" category, imputation maybe done with most ocuuring category"
      ],
      "execution_count": 7,
      "outputs": [
        {
          "output_type": "stream",
          "text": [
            "No. of unique drive_units 4\n"
          ],
          "name": "stdout"
        },
        {
          "output_type": "execute_result",
          "data": {
            "text/plain": [
              "front-wheel drive             27074\n",
              "rear drive                     4809\n",
              "all-wheel drive                4176\n",
              "part-time four-wheel drive     2596\n",
              "NaN                            1345\n",
              "Name: drive_unit, dtype: int64"
            ]
          },
          "metadata": {
            "tags": []
          },
          "execution_count": 7
        }
      ]
    },
    {
      "cell_type": "code",
      "metadata": {
        "id": "QQIVT58W8bZu",
        "colab": {
          "base_uri": "https://localhost:8080/"
        },
        "outputId": "28207cbd-441b-4fdb-848b-c94dea0591df"
      },
      "source": [
        "print('No. of Segments : {}'.format(prices['segment'].nunique()))\n",
        "prices['segment'].value_counts()"
      ],
      "execution_count": 8,
      "outputs": [
        {
          "output_type": "stream",
          "text": [
            "No. of Segments : 9\n"
          ],
          "name": "stdout"
        },
        {
          "output_type": "execute_result",
          "data": {
            "text/plain": [
              "D    8985\n",
              "C    7509\n",
              "J    6161\n",
              "M    4532\n",
              "E    4391\n",
              "B    3128\n",
              "F     658\n",
              "S     549\n",
              "A     332\n",
              "Name: segment, dtype: int64"
            ]
          },
          "metadata": {
            "tags": []
          },
          "execution_count": 8
        }
      ]
    },
    {
      "cell_type": "markdown",
      "metadata": {
        "id": "nLEwijwJXPu-"
      },
      "source": [
        "*Given the high number of missing values in the \"segment\" and distribution of categories, Imputation will be done by predictive model.*"
      ]
    },
    {
      "cell_type": "markdown",
      "metadata": {
        "id": "WPrg3dRkdznT"
      },
      "source": [
        "Check for corelation in the features using Pearson's Correlation"
      ]
    },
    {
      "cell_type": "markdown",
      "metadata": {
        "id": "uFeqQmp4ewFw"
      },
      "source": [
        "**Imputing the Missing values**"
      ]
    },
    {
      "cell_type": "code",
      "metadata": {
        "id": "CTIaxeA8eW32"
      },
      "source": [
        "from sklearn.impute import SimpleImputer\n",
        "imputer=SimpleImputer(strategy='most_frequent',missing_values=np.NaN)\n",
        "prices['drive_unit']=imputer.fit_transform(prices['drive_unit'].values.reshape(-1,1))"
      ],
      "execution_count": 15,
      "outputs": []
    },
    {
      "cell_type": "code",
      "metadata": {
        "id": "WeEqgX9rednV",
        "colab": {
          "base_uri": "https://localhost:8080/"
        },
        "outputId": "f25b2f8a-89a6-4c98-cbbf-f181ce93258e"
      },
      "source": [
        "prices.isnull().sum(axis=0)"
      ],
      "execution_count": 16,
      "outputs": [
        {
          "output_type": "execute_result",
          "data": {
            "text/plain": [
              "Unnamed: 0                0\n",
              "make                      0\n",
              "model                     0\n",
              "priceUSD                  0\n",
              "year                      0\n",
              "condition                 0\n",
              "mileage(kilometers)       0\n",
              "fuel_type                 0\n",
              "volume(cm3)              30\n",
              "color                     0\n",
              "transmission              0\n",
              "drive_unit                0\n",
              "segment                3755\n",
              "dtype: int64"
            ]
          },
          "metadata": {
            "tags": []
          },
          "execution_count": 16
        }
      ]
    },
    {
      "cell_type": "code",
      "metadata": {
        "id": "ACpTh2RKjrX6",
        "colab": {
          "base_uri": "https://localhost:8080/"
        },
        "outputId": "c36ccd94-429a-4178-c347-7bbaffd4fb21"
      },
      "source": [
        "prices['drive_unit'].value_counts(dropna=False)"
      ],
      "execution_count": 17,
      "outputs": [
        {
          "output_type": "execute_result",
          "data": {
            "text/plain": [
              "front-wheel drive             28419\n",
              "rear drive                     4809\n",
              "all-wheel drive                4176\n",
              "part-time four-wheel drive     2596\n",
              "Name: drive_unit, dtype: int64"
            ]
          },
          "metadata": {
            "tags": []
          },
          "execution_count": 17
        }
      ]
    },
    {
      "cell_type": "code",
      "metadata": {
        "id": "2TqQ1QBvzjTU"
      },
      "source": [
        "vol_imputer=SimpleImputer(missing_values=np.nan, strategy='mean')\n",
        "prices['volume(cm3)']=vol_imputer.fit_transform(prices['volume(cm3)'].values.reshape(-1,1))"
      ],
      "execution_count": 18,
      "outputs": []
    },
    {
      "cell_type": "markdown",
      "metadata": {
        "id": "69fx5FU3z7RV"
      },
      "source": [
        "Classifier model for imputation"
      ]
    },
    {
      "cell_type": "code",
      "metadata": {
        "id": "sY9oLhTznuIA",
        "colab": {
          "base_uri": "https://localhost:8080/"
        },
        "outputId": "5658de8a-4f3f-47b6-f79c-78d00770773c"
      },
      "source": [
        "#for imputing values in segment we will crate a classifier model using randomforestclassifier\n",
        "prices['segment'].value_counts(dropna=False)"
      ],
      "execution_count": 19,
      "outputs": [
        {
          "output_type": "execute_result",
          "data": {
            "text/plain": [
              "D      8985\n",
              "C      7509\n",
              "J      6161\n",
              "M      4532\n",
              "E      4391\n",
              "NaN    3755\n",
              "B      3128\n",
              "F       658\n",
              "S       549\n",
              "A       332\n",
              "Name: segment, dtype: int64"
            ]
          },
          "metadata": {
            "tags": []
          },
          "execution_count": 19
        }
      ]
    },
    {
      "cell_type": "code",
      "metadata": {
        "id": "G0KccTC50nKq"
      },
      "source": [
        "#iterating through the dataframe to collect the indices of all NaN rows\n",
        "nan_rows=[]\n",
        "for index,rows in prices.iterrows():\n",
        "    is_nan_data=rows.isnull()\n",
        "    if is_nan_data.any():\n",
        "        nan_rows.append(index)\n"
      ],
      "execution_count": 20,
      "outputs": []
    },
    {
      "cell_type": "code",
      "metadata": {
        "id": "79akKeqw3_un"
      },
      "source": [
        "prices_encoded=pd.get_dummies(prices.iloc[:,3:])"
      ],
      "execution_count": 39,
      "outputs": []
    },
    {
      "cell_type": "code",
      "metadata": {
        "id": "jexJJZfgDInI",
        "colab": {
          "base_uri": "https://localhost:8080/",
          "height": 261
        },
        "outputId": "dd39520e-1060-4abb-b829-d57fabaef7fb"
      },
      "source": [
        "#getting the test set with NaN segment columns\n",
        "test_set=prices_encoded.loc[nan_rows,:]\n",
        "test_set.head()"
      ],
      "execution_count": 40,
      "outputs": [
        {
          "output_type": "execute_result",
          "data": {
            "text/html": [
              "<div>\n",
              "<style scoped>\n",
              "    .dataframe tbody tr th:only-of-type {\n",
              "        vertical-align: middle;\n",
              "    }\n",
              "\n",
              "    .dataframe tbody tr th {\n",
              "        vertical-align: top;\n",
              "    }\n",
              "\n",
              "    .dataframe thead th {\n",
              "        text-align: right;\n",
              "    }\n",
              "</style>\n",
              "<table border=\"1\" class=\"dataframe\">\n",
              "  <thead>\n",
              "    <tr style=\"text-align: right;\">\n",
              "      <th></th>\n",
              "      <th>priceUSD</th>\n",
              "      <th>year</th>\n",
              "      <th>mileage(kilometers)</th>\n",
              "      <th>volume(cm3)</th>\n",
              "      <th>condition_for parts</th>\n",
              "      <th>condition_with damage</th>\n",
              "      <th>condition_with mileage</th>\n",
              "      <th>fuel_type_diesel</th>\n",
              "      <th>fuel_type_electrocar</th>\n",
              "      <th>fuel_type_petrol</th>\n",
              "      <th>color_black</th>\n",
              "      <th>color_blue</th>\n",
              "      <th>color_brown</th>\n",
              "      <th>color_burgundy</th>\n",
              "      <th>color_gray</th>\n",
              "      <th>color_green</th>\n",
              "      <th>color_orange</th>\n",
              "      <th>color_other</th>\n",
              "      <th>color_purple</th>\n",
              "      <th>color_red</th>\n",
              "      <th>color_silver</th>\n",
              "      <th>color_white</th>\n",
              "      <th>color_yellow</th>\n",
              "      <th>transmission_auto</th>\n",
              "      <th>transmission_mechanics</th>\n",
              "      <th>drive_unit_all-wheel drive</th>\n",
              "      <th>drive_unit_front-wheel drive</th>\n",
              "      <th>drive_unit_part-time four-wheel drive</th>\n",
              "      <th>drive_unit_rear drive</th>\n",
              "      <th>segment_A</th>\n",
              "      <th>segment_B</th>\n",
              "      <th>segment_C</th>\n",
              "      <th>segment_D</th>\n",
              "      <th>segment_E</th>\n",
              "      <th>segment_F</th>\n",
              "      <th>segment_J</th>\n",
              "      <th>segment_M</th>\n",
              "      <th>segment_S</th>\n",
              "    </tr>\n",
              "  </thead>\n",
              "  <tbody>\n",
              "    <tr>\n",
              "      <th>20</th>\n",
              "      <td>7500</td>\n",
              "      <td>2005</td>\n",
              "      <td>350000.0</td>\n",
              "      <td>1900.0</td>\n",
              "      <td>0</td>\n",
              "      <td>0</td>\n",
              "      <td>1</td>\n",
              "      <td>1</td>\n",
              "      <td>0</td>\n",
              "      <td>0</td>\n",
              "      <td>0</td>\n",
              "      <td>0</td>\n",
              "      <td>0</td>\n",
              "      <td>0</td>\n",
              "      <td>0</td>\n",
              "      <td>0</td>\n",
              "      <td>0</td>\n",
              "      <td>1</td>\n",
              "      <td>0</td>\n",
              "      <td>0</td>\n",
              "      <td>0</td>\n",
              "      <td>0</td>\n",
              "      <td>0</td>\n",
              "      <td>0</td>\n",
              "      <td>1</td>\n",
              "      <td>0</td>\n",
              "      <td>1</td>\n",
              "      <td>0</td>\n",
              "      <td>0</td>\n",
              "      <td>0</td>\n",
              "      <td>0</td>\n",
              "      <td>0</td>\n",
              "      <td>0</td>\n",
              "      <td>0</td>\n",
              "      <td>0</td>\n",
              "      <td>0</td>\n",
              "      <td>0</td>\n",
              "      <td>0</td>\n",
              "    </tr>\n",
              "    <tr>\n",
              "      <th>31</th>\n",
              "      <td>7000</td>\n",
              "      <td>2012</td>\n",
              "      <td>136000.0</td>\n",
              "      <td>2000.0</td>\n",
              "      <td>0</td>\n",
              "      <td>0</td>\n",
              "      <td>1</td>\n",
              "      <td>0</td>\n",
              "      <td>0</td>\n",
              "      <td>1</td>\n",
              "      <td>1</td>\n",
              "      <td>0</td>\n",
              "      <td>0</td>\n",
              "      <td>0</td>\n",
              "      <td>0</td>\n",
              "      <td>0</td>\n",
              "      <td>0</td>\n",
              "      <td>0</td>\n",
              "      <td>0</td>\n",
              "      <td>0</td>\n",
              "      <td>0</td>\n",
              "      <td>0</td>\n",
              "      <td>0</td>\n",
              "      <td>0</td>\n",
              "      <td>1</td>\n",
              "      <td>0</td>\n",
              "      <td>1</td>\n",
              "      <td>0</td>\n",
              "      <td>0</td>\n",
              "      <td>0</td>\n",
              "      <td>0</td>\n",
              "      <td>0</td>\n",
              "      <td>0</td>\n",
              "      <td>0</td>\n",
              "      <td>0</td>\n",
              "      <td>0</td>\n",
              "      <td>0</td>\n",
              "      <td>0</td>\n",
              "    </tr>\n",
              "    <tr>\n",
              "      <th>34</th>\n",
              "      <td>19500</td>\n",
              "      <td>2011</td>\n",
              "      <td>151420.0</td>\n",
              "      <td>5000.0</td>\n",
              "      <td>0</td>\n",
              "      <td>0</td>\n",
              "      <td>1</td>\n",
              "      <td>0</td>\n",
              "      <td>0</td>\n",
              "      <td>1</td>\n",
              "      <td>0</td>\n",
              "      <td>0</td>\n",
              "      <td>1</td>\n",
              "      <td>0</td>\n",
              "      <td>0</td>\n",
              "      <td>0</td>\n",
              "      <td>0</td>\n",
              "      <td>0</td>\n",
              "      <td>0</td>\n",
              "      <td>0</td>\n",
              "      <td>0</td>\n",
              "      <td>0</td>\n",
              "      <td>0</td>\n",
              "      <td>1</td>\n",
              "      <td>0</td>\n",
              "      <td>0</td>\n",
              "      <td>0</td>\n",
              "      <td>0</td>\n",
              "      <td>1</td>\n",
              "      <td>0</td>\n",
              "      <td>0</td>\n",
              "      <td>0</td>\n",
              "      <td>0</td>\n",
              "      <td>0</td>\n",
              "      <td>0</td>\n",
              "      <td>0</td>\n",
              "      <td>0</td>\n",
              "      <td>0</td>\n",
              "    </tr>\n",
              "    <tr>\n",
              "      <th>47</th>\n",
              "      <td>6500</td>\n",
              "      <td>2005</td>\n",
              "      <td>266.0</td>\n",
              "      <td>2000.0</td>\n",
              "      <td>0</td>\n",
              "      <td>0</td>\n",
              "      <td>1</td>\n",
              "      <td>1</td>\n",
              "      <td>0</td>\n",
              "      <td>0</td>\n",
              "      <td>0</td>\n",
              "      <td>0</td>\n",
              "      <td>0</td>\n",
              "      <td>0</td>\n",
              "      <td>0</td>\n",
              "      <td>0</td>\n",
              "      <td>0</td>\n",
              "      <td>0</td>\n",
              "      <td>0</td>\n",
              "      <td>0</td>\n",
              "      <td>1</td>\n",
              "      <td>0</td>\n",
              "      <td>0</td>\n",
              "      <td>0</td>\n",
              "      <td>1</td>\n",
              "      <td>0</td>\n",
              "      <td>1</td>\n",
              "      <td>0</td>\n",
              "      <td>0</td>\n",
              "      <td>0</td>\n",
              "      <td>0</td>\n",
              "      <td>0</td>\n",
              "      <td>0</td>\n",
              "      <td>0</td>\n",
              "      <td>0</td>\n",
              "      <td>0</td>\n",
              "      <td>0</td>\n",
              "      <td>0</td>\n",
              "    </tr>\n",
              "    <tr>\n",
              "      <th>50</th>\n",
              "      <td>400</td>\n",
              "      <td>1995</td>\n",
              "      <td>195928.0</td>\n",
              "      <td>1600.0</td>\n",
              "      <td>0</td>\n",
              "      <td>0</td>\n",
              "      <td>1</td>\n",
              "      <td>0</td>\n",
              "      <td>0</td>\n",
              "      <td>1</td>\n",
              "      <td>0</td>\n",
              "      <td>1</td>\n",
              "      <td>0</td>\n",
              "      <td>0</td>\n",
              "      <td>0</td>\n",
              "      <td>0</td>\n",
              "      <td>0</td>\n",
              "      <td>0</td>\n",
              "      <td>0</td>\n",
              "      <td>0</td>\n",
              "      <td>0</td>\n",
              "      <td>0</td>\n",
              "      <td>0</td>\n",
              "      <td>0</td>\n",
              "      <td>1</td>\n",
              "      <td>0</td>\n",
              "      <td>1</td>\n",
              "      <td>0</td>\n",
              "      <td>0</td>\n",
              "      <td>0</td>\n",
              "      <td>0</td>\n",
              "      <td>0</td>\n",
              "      <td>0</td>\n",
              "      <td>0</td>\n",
              "      <td>0</td>\n",
              "      <td>0</td>\n",
              "      <td>0</td>\n",
              "      <td>0</td>\n",
              "    </tr>\n",
              "  </tbody>\n",
              "</table>\n",
              "</div>"
            ],
            "text/plain": [
              "    priceUSD  year  mileage(kilometers)  ...  segment_J  segment_M  segment_S\n",
              "20      7500  2005             350000.0  ...          0          0          0\n",
              "31      7000  2012             136000.0  ...          0          0          0\n",
              "34     19500  2011             151420.0  ...          0          0          0\n",
              "47      6500  2005                266.0  ...          0          0          0\n",
              "50       400  1995             195928.0  ...          0          0          0\n",
              "\n",
              "[5 rows x 38 columns]"
            ]
          },
          "metadata": {
            "tags": []
          },
          "execution_count": 40
        }
      ]
    },
    {
      "cell_type": "code",
      "metadata": {
        "id": "YPC5hcTfDeVI",
        "colab": {
          "base_uri": "https://localhost:8080/",
          "height": 261
        },
        "outputId": "1170fe10-6daf-430a-8ec5-d94a83a0b5d4"
      },
      "source": [
        "#creating the training set\n",
        "train_set=prices_encoded.drop(index=nan_rows)\n",
        "train_set.head()"
      ],
      "execution_count": 41,
      "outputs": [
        {
          "output_type": "execute_result",
          "data": {
            "text/html": [
              "<div>\n",
              "<style scoped>\n",
              "    .dataframe tbody tr th:only-of-type {\n",
              "        vertical-align: middle;\n",
              "    }\n",
              "\n",
              "    .dataframe tbody tr th {\n",
              "        vertical-align: top;\n",
              "    }\n",
              "\n",
              "    .dataframe thead th {\n",
              "        text-align: right;\n",
              "    }\n",
              "</style>\n",
              "<table border=\"1\" class=\"dataframe\">\n",
              "  <thead>\n",
              "    <tr style=\"text-align: right;\">\n",
              "      <th></th>\n",
              "      <th>priceUSD</th>\n",
              "      <th>year</th>\n",
              "      <th>mileage(kilometers)</th>\n",
              "      <th>volume(cm3)</th>\n",
              "      <th>condition_for parts</th>\n",
              "      <th>condition_with damage</th>\n",
              "      <th>condition_with mileage</th>\n",
              "      <th>fuel_type_diesel</th>\n",
              "      <th>fuel_type_electrocar</th>\n",
              "      <th>fuel_type_petrol</th>\n",
              "      <th>color_black</th>\n",
              "      <th>color_blue</th>\n",
              "      <th>color_brown</th>\n",
              "      <th>color_burgundy</th>\n",
              "      <th>color_gray</th>\n",
              "      <th>color_green</th>\n",
              "      <th>color_orange</th>\n",
              "      <th>color_other</th>\n",
              "      <th>color_purple</th>\n",
              "      <th>color_red</th>\n",
              "      <th>color_silver</th>\n",
              "      <th>color_white</th>\n",
              "      <th>color_yellow</th>\n",
              "      <th>transmission_auto</th>\n",
              "      <th>transmission_mechanics</th>\n",
              "      <th>drive_unit_all-wheel drive</th>\n",
              "      <th>drive_unit_front-wheel drive</th>\n",
              "      <th>drive_unit_part-time four-wheel drive</th>\n",
              "      <th>drive_unit_rear drive</th>\n",
              "      <th>segment_A</th>\n",
              "      <th>segment_B</th>\n",
              "      <th>segment_C</th>\n",
              "      <th>segment_D</th>\n",
              "      <th>segment_E</th>\n",
              "      <th>segment_F</th>\n",
              "      <th>segment_J</th>\n",
              "      <th>segment_M</th>\n",
              "      <th>segment_S</th>\n",
              "    </tr>\n",
              "  </thead>\n",
              "  <tbody>\n",
              "    <tr>\n",
              "      <th>0</th>\n",
              "      <td>565</td>\n",
              "      <td>1993</td>\n",
              "      <td>960015.0</td>\n",
              "      <td>2000.0</td>\n",
              "      <td>0</td>\n",
              "      <td>0</td>\n",
              "      <td>1</td>\n",
              "      <td>0</td>\n",
              "      <td>0</td>\n",
              "      <td>1</td>\n",
              "      <td>1</td>\n",
              "      <td>0</td>\n",
              "      <td>0</td>\n",
              "      <td>0</td>\n",
              "      <td>0</td>\n",
              "      <td>0</td>\n",
              "      <td>0</td>\n",
              "      <td>0</td>\n",
              "      <td>0</td>\n",
              "      <td>0</td>\n",
              "      <td>0</td>\n",
              "      <td>0</td>\n",
              "      <td>0</td>\n",
              "      <td>0</td>\n",
              "      <td>1</td>\n",
              "      <td>0</td>\n",
              "      <td>1</td>\n",
              "      <td>0</td>\n",
              "      <td>0</td>\n",
              "      <td>0</td>\n",
              "      <td>0</td>\n",
              "      <td>0</td>\n",
              "      <td>1</td>\n",
              "      <td>0</td>\n",
              "      <td>0</td>\n",
              "      <td>0</td>\n",
              "      <td>0</td>\n",
              "      <td>0</td>\n",
              "    </tr>\n",
              "    <tr>\n",
              "      <th>1</th>\n",
              "      <td>5550</td>\n",
              "      <td>2008</td>\n",
              "      <td>172000.0</td>\n",
              "      <td>1400.0</td>\n",
              "      <td>0</td>\n",
              "      <td>0</td>\n",
              "      <td>1</td>\n",
              "      <td>1</td>\n",
              "      <td>0</td>\n",
              "      <td>0</td>\n",
              "      <td>0</td>\n",
              "      <td>0</td>\n",
              "      <td>0</td>\n",
              "      <td>0</td>\n",
              "      <td>0</td>\n",
              "      <td>0</td>\n",
              "      <td>0</td>\n",
              "      <td>0</td>\n",
              "      <td>0</td>\n",
              "      <td>0</td>\n",
              "      <td>1</td>\n",
              "      <td>0</td>\n",
              "      <td>0</td>\n",
              "      <td>0</td>\n",
              "      <td>1</td>\n",
              "      <td>0</td>\n",
              "      <td>1</td>\n",
              "      <td>0</td>\n",
              "      <td>0</td>\n",
              "      <td>0</td>\n",
              "      <td>0</td>\n",
              "      <td>0</td>\n",
              "      <td>0</td>\n",
              "      <td>0</td>\n",
              "      <td>0</td>\n",
              "      <td>0</td>\n",
              "      <td>1</td>\n",
              "      <td>0</td>\n",
              "    </tr>\n",
              "    <tr>\n",
              "      <th>2</th>\n",
              "      <td>8300</td>\n",
              "      <td>2008</td>\n",
              "      <td>223000.0</td>\n",
              "      <td>2500.0</td>\n",
              "      <td>0</td>\n",
              "      <td>0</td>\n",
              "      <td>1</td>\n",
              "      <td>0</td>\n",
              "      <td>0</td>\n",
              "      <td>1</td>\n",
              "      <td>0</td>\n",
              "      <td>0</td>\n",
              "      <td>0</td>\n",
              "      <td>0</td>\n",
              "      <td>0</td>\n",
              "      <td>0</td>\n",
              "      <td>0</td>\n",
              "      <td>0</td>\n",
              "      <td>1</td>\n",
              "      <td>0</td>\n",
              "      <td>0</td>\n",
              "      <td>0</td>\n",
              "      <td>0</td>\n",
              "      <td>1</td>\n",
              "      <td>0</td>\n",
              "      <td>0</td>\n",
              "      <td>1</td>\n",
              "      <td>0</td>\n",
              "      <td>0</td>\n",
              "      <td>0</td>\n",
              "      <td>0</td>\n",
              "      <td>0</td>\n",
              "      <td>1</td>\n",
              "      <td>0</td>\n",
              "      <td>0</td>\n",
              "      <td>0</td>\n",
              "      <td>0</td>\n",
              "      <td>0</td>\n",
              "    </tr>\n",
              "    <tr>\n",
              "      <th>3</th>\n",
              "      <td>3300</td>\n",
              "      <td>2005</td>\n",
              "      <td>140000.0</td>\n",
              "      <td>1200.0</td>\n",
              "      <td>0</td>\n",
              "      <td>0</td>\n",
              "      <td>1</td>\n",
              "      <td>0</td>\n",
              "      <td>0</td>\n",
              "      <td>1</td>\n",
              "      <td>0</td>\n",
              "      <td>1</td>\n",
              "      <td>0</td>\n",
              "      <td>0</td>\n",
              "      <td>0</td>\n",
              "      <td>0</td>\n",
              "      <td>0</td>\n",
              "      <td>0</td>\n",
              "      <td>0</td>\n",
              "      <td>0</td>\n",
              "      <td>0</td>\n",
              "      <td>0</td>\n",
              "      <td>0</td>\n",
              "      <td>0</td>\n",
              "      <td>1</td>\n",
              "      <td>0</td>\n",
              "      <td>1</td>\n",
              "      <td>0</td>\n",
              "      <td>0</td>\n",
              "      <td>1</td>\n",
              "      <td>0</td>\n",
              "      <td>0</td>\n",
              "      <td>0</td>\n",
              "      <td>0</td>\n",
              "      <td>0</td>\n",
              "      <td>0</td>\n",
              "      <td>0</td>\n",
              "      <td>0</td>\n",
              "    </tr>\n",
              "    <tr>\n",
              "      <th>4</th>\n",
              "      <td>2450</td>\n",
              "      <td>2002</td>\n",
              "      <td>413000.0</td>\n",
              "      <td>2200.0</td>\n",
              "      <td>0</td>\n",
              "      <td>1</td>\n",
              "      <td>0</td>\n",
              "      <td>1</td>\n",
              "      <td>0</td>\n",
              "      <td>0</td>\n",
              "      <td>0</td>\n",
              "      <td>0</td>\n",
              "      <td>0</td>\n",
              "      <td>1</td>\n",
              "      <td>0</td>\n",
              "      <td>0</td>\n",
              "      <td>0</td>\n",
              "      <td>0</td>\n",
              "      <td>0</td>\n",
              "      <td>0</td>\n",
              "      <td>0</td>\n",
              "      <td>0</td>\n",
              "      <td>0</td>\n",
              "      <td>0</td>\n",
              "      <td>1</td>\n",
              "      <td>0</td>\n",
              "      <td>1</td>\n",
              "      <td>0</td>\n",
              "      <td>0</td>\n",
              "      <td>0</td>\n",
              "      <td>0</td>\n",
              "      <td>0</td>\n",
              "      <td>1</td>\n",
              "      <td>0</td>\n",
              "      <td>0</td>\n",
              "      <td>0</td>\n",
              "      <td>0</td>\n",
              "      <td>0</td>\n",
              "    </tr>\n",
              "  </tbody>\n",
              "</table>\n",
              "</div>"
            ],
            "text/plain": [
              "   priceUSD  year  mileage(kilometers)  ...  segment_J  segment_M  segment_S\n",
              "0       565  1993             960015.0  ...          0          0          0\n",
              "1      5550  2008             172000.0  ...          0          1          0\n",
              "2      8300  2008             223000.0  ...          0          0          0\n",
              "3      3300  2005             140000.0  ...          0          0          0\n",
              "4      2450  2002             413000.0  ...          0          0          0\n",
              "\n",
              "[5 rows x 38 columns]"
            ]
          },
          "metadata": {
            "tags": []
          },
          "execution_count": 41
        }
      ]
    },
    {
      "cell_type": "code",
      "metadata": {
        "colab": {
          "base_uri": "https://localhost:8080/"
        },
        "id": "qY12Qb875pdn",
        "outputId": "ea3f3773-592e-49ea-bb49-eb4effa5490a"
      },
      "source": [
        "train_set.shape"
      ],
      "execution_count": 42,
      "outputs": [
        {
          "output_type": "execute_result",
          "data": {
            "text/plain": [
              "(36245, 38)"
            ]
          },
          "metadata": {
            "tags": []
          },
          "execution_count": 42
        }
      ]
    },
    {
      "cell_type": "code",
      "metadata": {
        "colab": {
          "base_uri": "https://localhost:8080/"
        },
        "id": "hMIHzuzb3dVI",
        "outputId": "1067d046-428a-4bd5-dc17-efc02ac090bf"
      },
      "source": [
        "X=train_set.iloc[:,0:29].values\n",
        "y=train_set.iloc[:,29:].values\n",
        "from sklearn.ensemble import RandomForestClassifier\n",
        "classifier=RandomForestClassifier()\n",
        "classifier.fit(X,y)"
      ],
      "execution_count": 48,
      "outputs": [
        {
          "output_type": "execute_result",
          "data": {
            "text/plain": [
              "RandomForestClassifier(bootstrap=True, ccp_alpha=0.0, class_weight=None,\n",
              "                       criterion='gini', max_depth=None, max_features='auto',\n",
              "                       max_leaf_nodes=None, max_samples=None,\n",
              "                       min_impurity_decrease=0.0, min_impurity_split=None,\n",
              "                       min_samples_leaf=1, min_samples_split=2,\n",
              "                       min_weight_fraction_leaf=0.0, n_estimators=100,\n",
              "                       n_jobs=None, oob_score=False, random_state=None,\n",
              "                       verbose=0, warm_start=False)"
            ]
          },
          "metadata": {
            "tags": []
          },
          "execution_count": 48
        }
      ]
    },
    {
      "cell_type": "code",
      "metadata": {
        "id": "lgGOpKxp6A3K"
      },
      "source": [
        "predict_x=test_set.iloc[:,0:29].values\n",
        "predictions=classifier.predict(predict_x)"
      ],
      "execution_count": 49,
      "outputs": []
    },
    {
      "cell_type": "code",
      "metadata": {
        "colab": {
          "base_uri": "https://localhost:8080/"
        },
        "id": "Kv-pNgU26wyX",
        "outputId": "af9704a0-e2f5-40c8-b938-b4320e6cc325"
      },
      "source": [
        "predictions"
      ],
      "execution_count": 50,
      "outputs": [
        {
          "output_type": "execute_result",
          "data": {
            "text/plain": [
              "array([[0, 0, 0, ..., 0, 1, 0],\n",
              "       [0, 0, 0, ..., 0, 0, 0],\n",
              "       [0, 0, 0, ..., 0, 0, 0],\n",
              "       ...,\n",
              "       [0, 0, 0, ..., 0, 0, 1],\n",
              "       [0, 0, 0, ..., 1, 0, 0],\n",
              "       [0, 0, 1, ..., 0, 0, 0]], dtype=uint8)"
            ]
          },
          "metadata": {
            "tags": []
          },
          "execution_count": 50
        }
      ]
    },
    {
      "cell_type": "code",
      "metadata": {
        "id": "meS7GB4F6x1G"
      },
      "source": [
        "classes=np.argmax(predictions,axis=-1)"
      ],
      "execution_count": 51,
      "outputs": []
    },
    {
      "cell_type": "code",
      "metadata": {
        "colab": {
          "base_uri": "https://localhost:8080/"
        },
        "id": "9XpppyMa7e7P",
        "outputId": "1fe7868e-9506-435b-c99a-3474abe68ba5"
      },
      "source": [
        "classes"
      ],
      "execution_count": 52,
      "outputs": [
        {
          "output_type": "execute_result",
          "data": {
            "text/plain": [
              "array([7, 0, 0, ..., 8, 6, 2])"
            ]
          },
          "metadata": {
            "tags": []
          },
          "execution_count": 52
        }
      ]
    },
    {
      "cell_type": "code",
      "metadata": {
        "id": "6EyhMk7b7frH"
      },
      "source": [
        "test_set['segment_prediction']=classes"
      ],
      "execution_count": 54,
      "outputs": []
    },
    {
      "cell_type": "code",
      "metadata": {
        "id": "9jBY1K3P9DpX"
      },
      "source": [
        "test_set['segment_prediction'].replace(to_replace=[0,1,2,3,4,5,6,7,8],value=['A','B','C','D','E','F','J','M','S'],inplace=True)"
      ],
      "execution_count": 57,
      "outputs": []
    },
    {
      "cell_type": "code",
      "metadata": {
        "id": "66js8zxD9zZf"
      },
      "source": [
        "test_set.head()"
      ],
      "execution_count": null,
      "outputs": []
    },
    {
      "cell_type": "code",
      "metadata": {
        "id": "hGejfTjo9zXl"
      },
      "source": [
        "#replacing the NaN values with predictions \n",
        "final_pred=prices.loc[nan_rows,:]\n",
        "final_pred.head()"
      ],
      "execution_count": null,
      "outputs": []
    },
    {
      "cell_type": "code",
      "metadata": {
        "id": "fTm9wmEt-qgR"
      },
      "source": [
        "final_pred['segment']=test_set['segment_prediction']\n",
        "final_pred.head()"
      ],
      "execution_count": null,
      "outputs": []
    },
    {
      "cell_type": "code",
      "metadata": {
        "id": "g28NKPs5-3j-"
      },
      "source": [
        "train_seg=prices.drop(index=nan_rows)\n",
        "final_df=pd.concat([train_seg,final_pred],axis=0,sort=True)"
      ],
      "execution_count": 61,
      "outputs": []
    },
    {
      "cell_type": "code",
      "metadata": {
        "colab": {
          "base_uri": "https://localhost:8080/",
          "height": 1000
        },
        "id": "OEVabRkqAjfm",
        "outputId": "773f914e-4475-40fc-e5ef-05099b299aab"
      },
      "source": [
        "final_df.sort_index(axis=0,inplace=True)\n",
        "final_df.head(25)"
      ],
      "execution_count": 63,
      "outputs": [
        {
          "output_type": "execute_result",
          "data": {
            "text/html": [
              "<div>\n",
              "<style scoped>\n",
              "    .dataframe tbody tr th:only-of-type {\n",
              "        vertical-align: middle;\n",
              "    }\n",
              "\n",
              "    .dataframe tbody tr th {\n",
              "        vertical-align: top;\n",
              "    }\n",
              "\n",
              "    .dataframe thead th {\n",
              "        text-align: right;\n",
              "    }\n",
              "</style>\n",
              "<table border=\"1\" class=\"dataframe\">\n",
              "  <thead>\n",
              "    <tr style=\"text-align: right;\">\n",
              "      <th></th>\n",
              "      <th>Unnamed: 0</th>\n",
              "      <th>color</th>\n",
              "      <th>condition</th>\n",
              "      <th>drive_unit</th>\n",
              "      <th>fuel_type</th>\n",
              "      <th>make</th>\n",
              "      <th>mileage(kilometers)</th>\n",
              "      <th>model</th>\n",
              "      <th>priceUSD</th>\n",
              "      <th>segment</th>\n",
              "      <th>transmission</th>\n",
              "      <th>volume(cm3)</th>\n",
              "      <th>year</th>\n",
              "    </tr>\n",
              "  </thead>\n",
              "  <tbody>\n",
              "    <tr>\n",
              "      <th>0</th>\n",
              "      <td>0</td>\n",
              "      <td>black</td>\n",
              "      <td>with mileage</td>\n",
              "      <td>front-wheel drive</td>\n",
              "      <td>petrol</td>\n",
              "      <td>honda</td>\n",
              "      <td>960015.0</td>\n",
              "      <td>accord</td>\n",
              "      <td>565</td>\n",
              "      <td>D</td>\n",
              "      <td>mechanics</td>\n",
              "      <td>2000.0</td>\n",
              "      <td>1993</td>\n",
              "    </tr>\n",
              "    <tr>\n",
              "      <th>1</th>\n",
              "      <td>1</td>\n",
              "      <td>silver</td>\n",
              "      <td>with mileage</td>\n",
              "      <td>front-wheel drive</td>\n",
              "      <td>diesel</td>\n",
              "      <td>ford</td>\n",
              "      <td>172000.0</td>\n",
              "      <td>fusion</td>\n",
              "      <td>5550</td>\n",
              "      <td>M</td>\n",
              "      <td>mechanics</td>\n",
              "      <td>1400.0</td>\n",
              "      <td>2008</td>\n",
              "    </tr>\n",
              "    <tr>\n",
              "      <th>2</th>\n",
              "      <td>2</td>\n",
              "      <td>purple</td>\n",
              "      <td>with mileage</td>\n",
              "      <td>front-wheel drive</td>\n",
              "      <td>petrol</td>\n",
              "      <td>nissan</td>\n",
              "      <td>223000.0</td>\n",
              "      <td>teana</td>\n",
              "      <td>8300</td>\n",
              "      <td>D</td>\n",
              "      <td>auto</td>\n",
              "      <td>2500.0</td>\n",
              "      <td>2008</td>\n",
              "    </tr>\n",
              "    <tr>\n",
              "      <th>3</th>\n",
              "      <td>3</td>\n",
              "      <td>blue</td>\n",
              "      <td>with mileage</td>\n",
              "      <td>front-wheel drive</td>\n",
              "      <td>petrol</td>\n",
              "      <td>volkswagen</td>\n",
              "      <td>140000.0</td>\n",
              "      <td>fox</td>\n",
              "      <td>3300</td>\n",
              "      <td>A</td>\n",
              "      <td>mechanics</td>\n",
              "      <td>1200.0</td>\n",
              "      <td>2005</td>\n",
              "    </tr>\n",
              "    <tr>\n",
              "      <th>4</th>\n",
              "      <td>4</td>\n",
              "      <td>burgundy</td>\n",
              "      <td>with damage</td>\n",
              "      <td>front-wheel drive</td>\n",
              "      <td>diesel</td>\n",
              "      <td>nissan</td>\n",
              "      <td>413000.0</td>\n",
              "      <td>primera</td>\n",
              "      <td>2450</td>\n",
              "      <td>D</td>\n",
              "      <td>mechanics</td>\n",
              "      <td>2200.0</td>\n",
              "      <td>2002</td>\n",
              "    </tr>\n",
              "    <tr>\n",
              "      <th>5</th>\n",
              "      <td>5</td>\n",
              "      <td>black</td>\n",
              "      <td>with mileage</td>\n",
              "      <td>front-wheel drive</td>\n",
              "      <td>diesel</td>\n",
              "      <td>nissan</td>\n",
              "      <td>148000.0</td>\n",
              "      <td>x-trail</td>\n",
              "      <td>18900</td>\n",
              "      <td>J</td>\n",
              "      <td>mechanics</td>\n",
              "      <td>1600.0</td>\n",
              "      <td>2016</td>\n",
              "    </tr>\n",
              "    <tr>\n",
              "      <th>6</th>\n",
              "      <td>6</td>\n",
              "      <td>green</td>\n",
              "      <td>with mileage</td>\n",
              "      <td>front-wheel drive</td>\n",
              "      <td>petrol</td>\n",
              "      <td>mitsubishi</td>\n",
              "      <td>378194.9</td>\n",
              "      <td>galant</td>\n",
              "      <td>2000</td>\n",
              "      <td>D</td>\n",
              "      <td>auto</td>\n",
              "      <td>2000.0</td>\n",
              "      <td>1997</td>\n",
              "    </tr>\n",
              "    <tr>\n",
              "      <th>7</th>\n",
              "      <td>7</td>\n",
              "      <td>green</td>\n",
              "      <td>with mileage</td>\n",
              "      <td>front-wheel drive</td>\n",
              "      <td>diesel</td>\n",
              "      <td>volkswagen</td>\n",
              "      <td>245000.0</td>\n",
              "      <td>golf</td>\n",
              "      <td>5950</td>\n",
              "      <td>C</td>\n",
              "      <td>auto</td>\n",
              "      <td>1900.0</td>\n",
              "      <td>2002</td>\n",
              "    </tr>\n",
              "    <tr>\n",
              "      <th>8</th>\n",
              "      <td>8</td>\n",
              "      <td>burgundy</td>\n",
              "      <td>with mileage</td>\n",
              "      <td>front-wheel drive</td>\n",
              "      <td>petrol</td>\n",
              "      <td>volkswagen</td>\n",
              "      <td>400000.0</td>\n",
              "      <td>passat</td>\n",
              "      <td>3200</td>\n",
              "      <td>D</td>\n",
              "      <td>mechanics</td>\n",
              "      <td>1800.0</td>\n",
              "      <td>1991</td>\n",
              "    </tr>\n",
              "    <tr>\n",
              "      <th>9</th>\n",
              "      <td>9</td>\n",
              "      <td>gray</td>\n",
              "      <td>with mileage</td>\n",
              "      <td>front-wheel drive</td>\n",
              "      <td>petrol</td>\n",
              "      <td>renault</td>\n",
              "      <td>210000.0</td>\n",
              "      <td>vel-satis</td>\n",
              "      <td>4700</td>\n",
              "      <td>E</td>\n",
              "      <td>auto</td>\n",
              "      <td>2000.0</td>\n",
              "      <td>2004</td>\n",
              "    </tr>\n",
              "    <tr>\n",
              "      <th>10</th>\n",
              "      <td>10</td>\n",
              "      <td>gray</td>\n",
              "      <td>with mileage</td>\n",
              "      <td>front-wheel drive</td>\n",
              "      <td>petrol</td>\n",
              "      <td>audi</td>\n",
              "      <td>155000.0</td>\n",
              "      <td>a6</td>\n",
              "      <td>17500</td>\n",
              "      <td>E</td>\n",
              "      <td>auto</td>\n",
              "      <td>2000.0</td>\n",
              "      <td>2013</td>\n",
              "    </tr>\n",
              "    <tr>\n",
              "      <th>11</th>\n",
              "      <td>11</td>\n",
              "      <td>silver</td>\n",
              "      <td>with mileage</td>\n",
              "      <td>front-wheel drive</td>\n",
              "      <td>petrol</td>\n",
              "      <td>daewoo</td>\n",
              "      <td>100000.0</td>\n",
              "      <td>matiz</td>\n",
              "      <td>2050</td>\n",
              "      <td>A</td>\n",
              "      <td>mechanics</td>\n",
              "      <td>800.0</td>\n",
              "      <td>2013</td>\n",
              "    </tr>\n",
              "    <tr>\n",
              "      <th>12</th>\n",
              "      <td>12</td>\n",
              "      <td>white</td>\n",
              "      <td>with mileage</td>\n",
              "      <td>all-wheel drive</td>\n",
              "      <td>diesel</td>\n",
              "      <td>toyota</td>\n",
              "      <td>200000.0</td>\n",
              "      <td>land-cruiser</td>\n",
              "      <td>42500</td>\n",
              "      <td>J</td>\n",
              "      <td>auto</td>\n",
              "      <td>4500.0</td>\n",
              "      <td>2014</td>\n",
              "    </tr>\n",
              "    <tr>\n",
              "      <th>13</th>\n",
              "      <td>13</td>\n",
              "      <td>burgundy</td>\n",
              "      <td>for parts</td>\n",
              "      <td>front-wheel drive</td>\n",
              "      <td>diesel</td>\n",
              "      <td>mitsubishi</td>\n",
              "      <td>230000.0</td>\n",
              "      <td>galant</td>\n",
              "      <td>500</td>\n",
              "      <td>D</td>\n",
              "      <td>mechanics</td>\n",
              "      <td>2000.0</td>\n",
              "      <td>1993</td>\n",
              "    </tr>\n",
              "    <tr>\n",
              "      <th>14</th>\n",
              "      <td>14</td>\n",
              "      <td>white</td>\n",
              "      <td>with mileage</td>\n",
              "      <td>part-time four-wheel drive</td>\n",
              "      <td>petrol</td>\n",
              "      <td>mitsubishi</td>\n",
              "      <td>77200.0</td>\n",
              "      <td>outlander</td>\n",
              "      <td>17950</td>\n",
              "      <td>J</td>\n",
              "      <td>auto</td>\n",
              "      <td>2000.0</td>\n",
              "      <td>2012</td>\n",
              "    </tr>\n",
              "    <tr>\n",
              "      <th>15</th>\n",
              "      <td>15</td>\n",
              "      <td>gray</td>\n",
              "      <td>with mileage</td>\n",
              "      <td>front-wheel drive</td>\n",
              "      <td>petrol</td>\n",
              "      <td>opel</td>\n",
              "      <td>290000.0</td>\n",
              "      <td>vectra</td>\n",
              "      <td>750</td>\n",
              "      <td>D</td>\n",
              "      <td>mechanics</td>\n",
              "      <td>1600.0</td>\n",
              "      <td>1991</td>\n",
              "    </tr>\n",
              "    <tr>\n",
              "      <th>16</th>\n",
              "      <td>16</td>\n",
              "      <td>gray</td>\n",
              "      <td>with mileage</td>\n",
              "      <td>front-wheel drive</td>\n",
              "      <td>diesel</td>\n",
              "      <td>opel</td>\n",
              "      <td>137800.0</td>\n",
              "      <td>zafira</td>\n",
              "      <td>11950</td>\n",
              "      <td>M</td>\n",
              "      <td>mechanics</td>\n",
              "      <td>1600.0</td>\n",
              "      <td>2015</td>\n",
              "    </tr>\n",
              "    <tr>\n",
              "      <th>17</th>\n",
              "      <td>17</td>\n",
              "      <td>other</td>\n",
              "      <td>with mileage</td>\n",
              "      <td>front-wheel drive</td>\n",
              "      <td>diesel</td>\n",
              "      <td>renault</td>\n",
              "      <td>400000.0</td>\n",
              "      <td>megane</td>\n",
              "      <td>1800</td>\n",
              "      <td>C</td>\n",
              "      <td>mechanics</td>\n",
              "      <td>1900.0</td>\n",
              "      <td>1998</td>\n",
              "    </tr>\n",
              "    <tr>\n",
              "      <th>18</th>\n",
              "      <td>18</td>\n",
              "      <td>blue</td>\n",
              "      <td>with mileage</td>\n",
              "      <td>front-wheel drive</td>\n",
              "      <td>petrol</td>\n",
              "      <td>chevrolet</td>\n",
              "      <td>300000.0</td>\n",
              "      <td>lacetti</td>\n",
              "      <td>4650</td>\n",
              "      <td>C</td>\n",
              "      <td>mechanics</td>\n",
              "      <td>1600.0</td>\n",
              "      <td>2011</td>\n",
              "    </tr>\n",
              "    <tr>\n",
              "      <th>19</th>\n",
              "      <td>19</td>\n",
              "      <td>blue</td>\n",
              "      <td>with mileage</td>\n",
              "      <td>front-wheel drive</td>\n",
              "      <td>diesel</td>\n",
              "      <td>renault</td>\n",
              "      <td>180000.0</td>\n",
              "      <td>laguna</td>\n",
              "      <td>3500</td>\n",
              "      <td>D</td>\n",
              "      <td>mechanics</td>\n",
              "      <td>2200.0</td>\n",
              "      <td>2003</td>\n",
              "    </tr>\n",
              "    <tr>\n",
              "      <th>20</th>\n",
              "      <td>20</td>\n",
              "      <td>other</td>\n",
              "      <td>with mileage</td>\n",
              "      <td>front-wheel drive</td>\n",
              "      <td>diesel</td>\n",
              "      <td>volkswagen</td>\n",
              "      <td>350000.0</td>\n",
              "      <td>sharan</td>\n",
              "      <td>7500</td>\n",
              "      <td>M</td>\n",
              "      <td>mechanics</td>\n",
              "      <td>1900.0</td>\n",
              "      <td>2005</td>\n",
              "    </tr>\n",
              "    <tr>\n",
              "      <th>21</th>\n",
              "      <td>21</td>\n",
              "      <td>black</td>\n",
              "      <td>with mileage</td>\n",
              "      <td>front-wheel drive</td>\n",
              "      <td>diesel</td>\n",
              "      <td>audi</td>\n",
              "      <td>225526.0</td>\n",
              "      <td>a6</td>\n",
              "      <td>9023</td>\n",
              "      <td>E</td>\n",
              "      <td>mechanics</td>\n",
              "      <td>2000.0</td>\n",
              "      <td>2005</td>\n",
              "    </tr>\n",
              "    <tr>\n",
              "      <th>22</th>\n",
              "      <td>22</td>\n",
              "      <td>silver</td>\n",
              "      <td>with mileage</td>\n",
              "      <td>front-wheel drive</td>\n",
              "      <td>petrol</td>\n",
              "      <td>nissan</td>\n",
              "      <td>220000.0</td>\n",
              "      <td>primera</td>\n",
              "      <td>3300</td>\n",
              "      <td>D</td>\n",
              "      <td>mechanics</td>\n",
              "      <td>2000.0</td>\n",
              "      <td>2005</td>\n",
              "    </tr>\n",
              "    <tr>\n",
              "      <th>23</th>\n",
              "      <td>23</td>\n",
              "      <td>other</td>\n",
              "      <td>with mileage</td>\n",
              "      <td>rear drive</td>\n",
              "      <td>petrol</td>\n",
              "      <td>mercedes-benz</td>\n",
              "      <td>250000.0</td>\n",
              "      <td>c-klass</td>\n",
              "      <td>4944</td>\n",
              "      <td>D</td>\n",
              "      <td>auto</td>\n",
              "      <td>2300.0</td>\n",
              "      <td>1998</td>\n",
              "    </tr>\n",
              "    <tr>\n",
              "      <th>24</th>\n",
              "      <td>24</td>\n",
              "      <td>other</td>\n",
              "      <td>with mileage</td>\n",
              "      <td>all-wheel drive</td>\n",
              "      <td>petrol</td>\n",
              "      <td>lexus</td>\n",
              "      <td>202000.0</td>\n",
              "      <td>rx</td>\n",
              "      <td>12550</td>\n",
              "      <td>J</td>\n",
              "      <td>auto</td>\n",
              "      <td>3500.0</td>\n",
              "      <td>2008</td>\n",
              "    </tr>\n",
              "  </tbody>\n",
              "</table>\n",
              "</div>"
            ],
            "text/plain": [
              "    Unnamed: 0     color     condition  ... transmission volume(cm3)  year\n",
              "0            0     black  with mileage  ...    mechanics      2000.0  1993\n",
              "1            1    silver  with mileage  ...    mechanics      1400.0  2008\n",
              "2            2    purple  with mileage  ...         auto      2500.0  2008\n",
              "3            3      blue  with mileage  ...    mechanics      1200.0  2005\n",
              "4            4  burgundy   with damage  ...    mechanics      2200.0  2002\n",
              "5            5     black  with mileage  ...    mechanics      1600.0  2016\n",
              "6            6     green  with mileage  ...         auto      2000.0  1997\n",
              "7            7     green  with mileage  ...         auto      1900.0  2002\n",
              "8            8  burgundy  with mileage  ...    mechanics      1800.0  1991\n",
              "9            9      gray  with mileage  ...         auto      2000.0  2004\n",
              "10          10      gray  with mileage  ...         auto      2000.0  2013\n",
              "11          11    silver  with mileage  ...    mechanics       800.0  2013\n",
              "12          12     white  with mileage  ...         auto      4500.0  2014\n",
              "13          13  burgundy     for parts  ...    mechanics      2000.0  1993\n",
              "14          14     white  with mileage  ...         auto      2000.0  2012\n",
              "15          15      gray  with mileage  ...    mechanics      1600.0  1991\n",
              "16          16      gray  with mileage  ...    mechanics      1600.0  2015\n",
              "17          17     other  with mileage  ...    mechanics      1900.0  1998\n",
              "18          18      blue  with mileage  ...    mechanics      1600.0  2011\n",
              "19          19      blue  with mileage  ...    mechanics      2200.0  2003\n",
              "20          20     other  with mileage  ...    mechanics      1900.0  2005\n",
              "21          21     black  with mileage  ...    mechanics      2000.0  2005\n",
              "22          22    silver  with mileage  ...    mechanics      2000.0  2005\n",
              "23          23     other  with mileage  ...         auto      2300.0  1998\n",
              "24          24     other  with mileage  ...         auto      3500.0  2008\n",
              "\n",
              "[25 rows x 13 columns]"
            ]
          },
          "metadata": {
            "tags": []
          },
          "execution_count": 63
        }
      ]
    },
    {
      "cell_type": "code",
      "metadata": {
        "colab": {
          "base_uri": "https://localhost:8080/"
        },
        "id": "XwmxxUjAAmaF",
        "outputId": "da71c189-e5ab-46e9-d4ea-6cc0ce03bfa8"
      },
      "source": [
        "final_df.isnull().sum(axis=0)"
      ],
      "execution_count": 64,
      "outputs": [
        {
          "output_type": "execute_result",
          "data": {
            "text/plain": [
              "Unnamed: 0             0\n",
              "color                  0\n",
              "condition              0\n",
              "drive_unit             0\n",
              "fuel_type              0\n",
              "make                   0\n",
              "mileage(kilometers)    0\n",
              "model                  0\n",
              "priceUSD               0\n",
              "segment                0\n",
              "transmission           0\n",
              "volume(cm3)            0\n",
              "year                   0\n",
              "dtype: int64"
            ]
          },
          "metadata": {
            "tags": []
          },
          "execution_count": 64
        }
      ]
    },
    {
      "cell_type": "markdown",
      "metadata": {
        "id": "YKHjw3B9BOk8"
      },
      "source": [
        "# **EDA on the final DATASET**"
      ]
    },
    {
      "cell_type": "code",
      "metadata": {
        "id": "79LhoHNofZq8",
        "colab": {
          "base_uri": "https://localhost:8080/",
          "height": 361
        },
        "outputId": "27560ec0-abc5-498b-8189-8d394f359f8e"
      },
      "source": [
        "sns.scatterplot(prices['year'],prices['priceUSD'],alpha=0.5)"
      ],
      "execution_count": 13,
      "outputs": [
        {
          "output_type": "stream",
          "text": [
            "/usr/local/lib/python3.6/dist-packages/seaborn/_decorators.py:43: FutureWarning: Pass the following variables as keyword args: x, y. From version 0.12, the only valid positional argument will be `data`, and passing other arguments without an explicit keyword will result in an error or misinterpretation.\n",
            "  FutureWarning\n"
          ],
          "name": "stderr"
        },
        {
          "output_type": "execute_result",
          "data": {
            "text/plain": [
              "<matplotlib.axes._subplots.AxesSubplot at 0x7f895995bc18>"
            ]
          },
          "metadata": {
            "tags": []
          },
          "execution_count": 13
        },
        {
          "output_type": "display_data",
          "data": {
            "image/png": "[encoded data removed]",
            "text/plain": [
              "<Figure size 432x288 with 1 Axes>"
            ]
          },
          "metadata": {
            "tags": [],
            "needs_background": "light"
          }
        }
      ]
    },
    {
      "cell_type": "code",
      "metadata": {
        "id": "T3vKKp0IgNFt",
        "colab": {
          "base_uri": "https://localhost:8080/",
          "height": 361
        },
        "outputId": "d027f987-3a9a-4a80-d870-9175f9a328e5"
      },
      "source": [
        "sns.scatterplot(prices['volume(cm3)'],prices['priceUSD'])"
      ],
      "execution_count": 14,
      "outputs": [
        {
          "output_type": "stream",
          "text": [
            "/usr/local/lib/python3.6/dist-packages/seaborn/_decorators.py:43: FutureWarning: Pass the following variables as keyword args: x, y. From version 0.12, the only valid positional argument will be `data`, and passing other arguments without an explicit keyword will result in an error or misinterpretation.\n",
            "  FutureWarning\n"
          ],
          "name": "stderr"
        },
        {
          "output_type": "execute_result",
          "data": {
            "text/plain": [
              "<matplotlib.axes._subplots.AxesSubplot at 0x7f895d574c50>"
            ]
          },
          "metadata": {
            "tags": []
          },
          "execution_count": 14
        },
        {
          "output_type": "display_data",
          "data": {
            "image/png": "[encoded data removed]",
            "text/plain": [
              "<Figure size 432x288 with 1 Axes>"
            ]
          },
          "metadata": {
            "tags": [],
            "needs_background": "light"
          }
        }
      ]
    },
    {
      "cell_type": "code",
      "metadata": {
        "id": "v6GQ1rl-dy7f"
      },
      "source": [
        "corr_matrix=prices.corr(method='pearson')"
      ],
      "execution_count": 10,
      "outputs": []
    },
    {
      "cell_type": "markdown",
      "metadata": {
        "id": "-BJk33cFDPTt"
      },
      "source": [
        "Plotting Correlation Matrix"
      ]
    },
    {
      "cell_type": "code",
      "metadata": {
        "id": "GEX2_pPTYMhG",
        "colab": {
          "base_uri": "https://localhost:8080/",
          "height": 393
        },
        "outputId": "139cf84f-65d0-48b0-e4fb-91d62e966d42"
      },
      "source": [
        "#plotting the coorelation matrix for visualization\n",
        "sns.heatmap(corr_matrix)\n",
        "print(\"No strong Correlation between the numeric features\")"
      ],
      "execution_count": 11,
      "outputs": [
        {
          "output_type": "stream",
          "text": [
            "No strong Correlation between the numeric features\n"
          ],
          "name": "stdout"
        },
        {
          "output_type": "display_data",
          "data": {
            "image/png": "[encoded data removed]",
            "text/plain": [
              "<Figure size 432x288 with 2 Axes>"
            ]
          },
          "metadata": {
            "tags": [],
            "needs_background": "light"
          }
        }
      ]
    },
    {
      "cell_type": "code",
      "metadata": {
        "id": "Kg3QRIyDeeBr",
        "colab": {
          "base_uri": "https://localhost:8080/",
          "height": 399
        },
        "outputId": "6ede68b1-11db-4a41-ae2a-faedf6988b4d"
      },
      "source": [
        "sns.scatterplot(np.log(prices['mileage(kilometers)']),prices['priceUSD'],alpha=0.4)"
      ],
      "execution_count": 12,
      "outputs": [
        {
          "output_type": "stream",
          "text": [
            "/usr/local/lib/python3.6/dist-packages/pandas/core/series.py:726: RuntimeWarning: divide by zero encountered in log\n",
            "  result = getattr(ufunc, method)(*inputs, **kwargs)\n",
            "/usr/local/lib/python3.6/dist-packages/seaborn/_decorators.py:43: FutureWarning: Pass the following variables as keyword args: x, y. From version 0.12, the only valid positional argument will be `data`, and passing other arguments without an explicit keyword will result in an error or misinterpretation.\n",
            "  FutureWarning\n"
          ],
          "name": "stderr"
        },
        {
          "output_type": "execute_result",
          "data": {
            "text/plain": [
              "<matplotlib.axes._subplots.AxesSubplot at 0x7f8959a20c88>"
            ]
          },
          "metadata": {
            "tags": []
          },
          "execution_count": 12
        },
        {
          "output_type": "display_data",
          "data": {
            "image/png": "[encoded data removed]",
            "text/plain": [
              "<Figure size 432x288 with 1 Axes>"
            ]
          },
          "metadata": {
            "tags": [],
            "needs_background": "light"
          }
        }
      ]
    },
    {
      "cell_type": "code",
      "metadata": {
        "id": "nOHeEnZPUqdb",
        "colab": {
          "base_uri": "https://localhost:8080/",
          "height": 268
        },
        "outputId": "c98fd0db-10d8-4e64-fb35-66ba46f2232d"
      },
      "source": [
        "plt.hist(prices['year'],bins=20)\n",
        "plt.show()"
      ],
      "execution_count": 5,
      "outputs": [
        {
          "output_type": "display_data",
          "data": {
            "image/png": "[encoded data removed]",
            "text/plain": [
              "<Figure size 432x288 with 1 Axes>"
            ]
          },
          "metadata": {
            "tags": [],
            "needs_background": "light"
          }
        }
      ]
    },
    {
      "cell_type": "markdown",
      "metadata": {
        "id": "qLUiqOBxDDM4"
      },
      "source": [
        "#test shows transmission and segment type arent dependent"
      ]
    },
    {
      "cell_type": "code",
      "metadata": {
        "colab": {
          "base_uri": "https://localhost:8080/"
        },
        "id": "ITwvxmDGCNM5",
        "outputId": "7b12ab50-419f-4d10-fab2-a0b6cdb699f7"
      },
      "source": [
        "#Chi-squared test for hypothesis testing\n",
        "from scipy.stats import chi2_contingency\n",
        "stat, p, dof, expected = chi2_contingency(pd.get_dummies(final_df['transmission']),pd.get_dummies(final_df['segment']))\n",
        "alpha=0.05\n",
        "print(\"p value is \" + str(p)) \n",
        "if p <= alpha: \n",
        "    print('Dependent (reject H0)') \n",
        "else: \n",
        "    print('Independent (H0 holds true)')  "
      ],
      "execution_count": 66,
      "outputs": [
        {
          "output_type": "stream",
          "text": [
            "p value is 0.49764920686884595\n",
            "Independent (H0 holds true)\n"
          ],
          "name": "stdout"
        }
      ]
    },
    {
      "cell_type": "code",
      "metadata": {
        "id": "_z6kZIM2Ctrs"
      },
      "source": [
        ""
      ],
      "execution_count": null,
      "outputs": []
    }
  ]
}