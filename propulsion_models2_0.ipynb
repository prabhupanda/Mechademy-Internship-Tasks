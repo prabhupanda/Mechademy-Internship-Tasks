{
  "nbformat": 4,
  "nbformat_minor": 0,
  "metadata": {
    "colab": {
      "name": "propulsion_models2.0.ipynb",
      "provenance": []
    },
    "kernelspec": {
      "name": "python3",
      "display_name": "Python 3"
    }
  },
  "cells": [
    {
      "cell_type": "code",
      "metadata": {
        "id": "ZRNS05crZ689"
      },
      "source": [
        "import numpy as np\n",
        "import pandas as pd\n",
        "import matplotlib.pyplot as plt\n",
        "import seaborn as sns\n",
        "sns.set()"
      ],
      "execution_count": null,
      "outputs": []
    },
    {
      "cell_type": "code",
      "metadata": {
        "id": "M1hPatiDaOJp"
      },
      "source": [
        "filepath='https://github.com/prabhupanda/ML-code/blob/master/propulsion.csv?raw=true'\n",
        "data=pd.read_csv(filepath)"
      ],
      "execution_count": null,
      "outputs": []
    },
    {
      "cell_type": "code",
      "metadata": {
        "id": "zJ76ThYwaWCN",
        "colab": {
          "base_uri": "https://localhost:8080/",
          "height": 330
        },
        "outputId": "3a2040af-716d-40cd-bfb5-674a0c29aa3f"
      },
      "source": [
        "data.head()"
      ],
      "execution_count": null,
      "outputs": [
        {
          "output_type": "execute_result",
          "data": {
            "text/html": [
              "<div>\n",
              "<style scoped>\n",
              "    .dataframe tbody tr th:only-of-type {\n",
              "        vertical-align: middle;\n",
              "    }\n",
              "\n",
              "    .dataframe tbody tr th {\n",
              "        vertical-align: top;\n",
              "    }\n",
              "\n",
              "    .dataframe thead th {\n",
              "        text-align: right;\n",
              "    }\n",
              "</style>\n",
              "<table border=\"1\" class=\"dataframe\">\n",
              "  <thead>\n",
              "    <tr style=\"text-align: right;\">\n",
              "      <th></th>\n",
              "      <th>Unnamed: 0</th>\n",
              "      <th>Lever position (lp) [ ]</th>\n",
              "      <th>Ship speed (v) [knots]</th>\n",
              "      <th>Gas Turbine shaft torque (GTT) [kN m]</th>\n",
              "      <th>Gas Turbine rate of revolutions (GTn) [rpm]</th>\n",
              "      <th>Gas Generator rate of revolutions (GGn) [rpm]</th>\n",
              "      <th>Starboard Propeller Torque (Ts) [kN]</th>\n",
              "      <th>Port Propeller Torque (Tp) [kN]</th>\n",
              "      <th>HP Turbine exit temperature (T48) [C]</th>\n",
              "      <th>GT Compressor inlet air temperature (T1) [C]</th>\n",
              "      <th>GT Compressor outlet air temperature (T2) [C]</th>\n",
              "      <th>HP Turbine exit pressure (P48) [bar]</th>\n",
              "      <th>GT Compressor inlet air pressure (P1) [bar]</th>\n",
              "      <th>GT Compressor outlet air pressure (P2) [bar]</th>\n",
              "      <th>Gas Turbine exhaust gas pressure (Pexh) [bar]</th>\n",
              "      <th>Turbine Injecton Control (TIC) [%]</th>\n",
              "      <th>Fuel flow (mf) [kg/s]</th>\n",
              "      <th>GT Compressor decay state coefficient.</th>\n",
              "      <th>GT Turbine decay state coefficient.</th>\n",
              "    </tr>\n",
              "  </thead>\n",
              "  <tbody>\n",
              "    <tr>\n",
              "      <th>0</th>\n",
              "      <td>0</td>\n",
              "      <td>9.300</td>\n",
              "      <td>27.0</td>\n",
              "      <td>72762.205</td>\n",
              "      <td>3560.393</td>\n",
              "      <td>9753.812</td>\n",
              "      <td>644.806</td>\n",
              "      <td>644.806</td>\n",
              "      <td>1086.583</td>\n",
              "      <td>288.0</td>\n",
              "      <td>780.304</td>\n",
              "      <td>4.523</td>\n",
              "      <td>0.998</td>\n",
              "      <td>22.879</td>\n",
              "      <td>1.050</td>\n",
              "      <td>90.435</td>\n",
              "      <td>1.790</td>\n",
              "      <td>0.973</td>\n",
              "      <td>0.978</td>\n",
              "    </tr>\n",
              "    <tr>\n",
              "      <th>1</th>\n",
              "      <td>1</td>\n",
              "      <td>6.175</td>\n",
              "      <td>18.0</td>\n",
              "      <td>29760.552</td>\n",
              "      <td>2306.825</td>\n",
              "      <td>8780.012</td>\n",
              "      <td>246.011</td>\n",
              "      <td>246.011</td>\n",
              "      <td>776.921</td>\n",
              "      <td>288.0</td>\n",
              "      <td>665.511</td>\n",
              "      <td>2.518</td>\n",
              "      <td>0.998</td>\n",
              "      <td>13.438</td>\n",
              "      <td>1.030</td>\n",
              "      <td>34.596</td>\n",
              "      <td>0.685</td>\n",
              "      <td>0.995</td>\n",
              "      <td>0.975</td>\n",
              "    </tr>\n",
              "    <tr>\n",
              "      <th>2</th>\n",
              "      <td>2</td>\n",
              "      <td>3.144</td>\n",
              "      <td>9.0</td>\n",
              "      <td>8375.774</td>\n",
              "      <td>1386.739</td>\n",
              "      <td>7051.621</td>\n",
              "      <td>60.318</td>\n",
              "      <td>60.318</td>\n",
              "      <td>589.764</td>\n",
              "      <td>288.0</td>\n",
              "      <td>580.587</td>\n",
              "      <td>1.392</td>\n",
              "      <td>0.998</td>\n",
              "      <td>7.566</td>\n",
              "      <td>1.020</td>\n",
              "      <td>12.477</td>\n",
              "      <td>0.247</td>\n",
              "      <td>0.980</td>\n",
              "      <td>0.978</td>\n",
              "    </tr>\n",
              "    <tr>\n",
              "      <th>3</th>\n",
              "      <td>3</td>\n",
              "      <td>3.144</td>\n",
              "      <td>9.0</td>\n",
              "      <td>8377.589</td>\n",
              "      <td>1386.748</td>\n",
              "      <td>7098.469</td>\n",
              "      <td>60.339</td>\n",
              "      <td>60.339</td>\n",
              "      <td>570.651</td>\n",
              "      <td>288.0</td>\n",
              "      <td>576.565</td>\n",
              "      <td>1.390</td>\n",
              "      <td>0.998</td>\n",
              "      <td>7.409</td>\n",
              "      <td>1.021</td>\n",
              "      <td>11.678</td>\n",
              "      <td>0.231</td>\n",
              "      <td>0.984</td>\n",
              "      <td>1.000</td>\n",
              "    </tr>\n",
              "    <tr>\n",
              "      <th>4</th>\n",
              "      <td>4</td>\n",
              "      <td>6.175</td>\n",
              "      <td>18.0</td>\n",
              "      <td>29761.091</td>\n",
              "      <td>2306.825</td>\n",
              "      <td>8782.024</td>\n",
              "      <td>246.021</td>\n",
              "      <td>246.021</td>\n",
              "      <td>769.855</td>\n",
              "      <td>288.0</td>\n",
              "      <td>663.682</td>\n",
              "      <td>2.518</td>\n",
              "      <td>0.998</td>\n",
              "      <td>13.374</td>\n",
              "      <td>1.031</td>\n",
              "      <td>34.154</td>\n",
              "      <td>0.676</td>\n",
              "      <td>0.998</td>\n",
              "      <td>0.980</td>\n",
              "    </tr>\n",
              "  </tbody>\n",
              "</table>\n",
              "</div>"
            ],
            "text/plain": [
              "   Unnamed: 0  ...  GT Turbine decay state coefficient.\n",
              "0           0  ...                                0.978\n",
              "1           1  ...                                0.975\n",
              "2           2  ...                                0.978\n",
              "3           3  ...                                1.000\n",
              "4           4  ...                                0.980\n",
              "\n",
              "[5 rows x 19 columns]"
            ]
          },
          "metadata": {
            "tags": []
          },
          "execution_count": 142
        }
      ]
    },
    {
      "cell_type": "code",
      "metadata": {
        "id": "Gmqs69ewyH3Y",
        "colab": {
          "base_uri": "https://localhost:8080/"
        },
        "outputId": "f2b6eff2-3adb-44b5-e2d0-28751a864fde"
      },
      "source": [
        "data['GT Compressor inlet air temperature (T1) [C]'].nunique()"
      ],
      "execution_count": null,
      "outputs": [
        {
          "output_type": "execute_result",
          "data": {
            "text/plain": [
              "1"
            ]
          },
          "metadata": {
            "tags": []
          },
          "execution_count": 143
        }
      ]
    },
    {
      "cell_type": "code",
      "metadata": {
        "id": "U27_x1o7aXsc",
        "colab": {
          "base_uri": "https://localhost:8080/"
        },
        "outputId": "722f0e1a-e389-4fb7-9d47-7a189257f88b"
      },
      "source": [
        "#findout number of missing values in each column\n",
        "data.isnull().sum(axis=0)"
      ],
      "execution_count": null,
      "outputs": [
        {
          "output_type": "execute_result",
          "data": {
            "text/plain": [
              "Unnamed: 0                                       0\n",
              "Lever position (lp) [ ]                          0\n",
              "Ship speed (v) [knots]                           0\n",
              "Gas Turbine shaft torque (GTT) [kN m]            0\n",
              "Gas Turbine rate of revolutions (GTn) [rpm]      0\n",
              "Gas Generator rate of revolutions (GGn) [rpm]    0\n",
              "Starboard Propeller Torque (Ts) [kN]             0\n",
              "Port Propeller Torque (Tp) [kN]                  0\n",
              "HP Turbine exit temperature (T48) [C]            0\n",
              "GT Compressor inlet air temperature (T1) [C]     0\n",
              "GT Compressor outlet air temperature (T2) [C]    0\n",
              "HP Turbine exit pressure (P48) [bar]             0\n",
              "GT Compressor inlet air pressure (P1) [bar]      0\n",
              "GT Compressor outlet air pressure (P2) [bar]     0\n",
              "Gas Turbine exhaust gas pressure (Pexh) [bar]    0\n",
              "Turbine Injecton Control (TIC) [%]               0\n",
              "Fuel flow (mf) [kg/s]                            0\n",
              "GT Compressor decay state coefficient.           0\n",
              "GT Turbine decay state coefficient.              0\n",
              "dtype: int64"
            ]
          },
          "metadata": {
            "tags": []
          },
          "execution_count": 144
        }
      ]
    },
    {
      "cell_type": "code",
      "metadata": {
        "id": "sDXptLomapUc"
      },
      "source": [
        "#find out linear correlations between the features\n",
        "#Using Pearson's Correlation\n",
        "corr_matrix=data.corr(method='pearson')  \n",
        "corr_matrix.fillna(value=0,inplace=True)"
      ],
      "execution_count": null,
      "outputs": []
    },
    {
      "cell_type": "code",
      "metadata": {
        "id": "-heOvB-ZbJmT",
        "colab": {
          "base_uri": "https://localhost:8080/",
          "height": 537
        },
        "outputId": "63d09643-8882-4419-9c57-4628eb44472b"
      },
      "source": [
        "#plotting the correaltion matrix in heatmap\n",
        "sns.heatmap(corr_matrix,vmin=-1,vmax=1,center=0,fmt='.1g',square=True,)"
      ],
      "execution_count": null,
      "outputs": [
        {
          "output_type": "execute_result",
          "data": {
            "text/plain": [
              "<matplotlib.axes._subplots.AxesSubplot at 0x7f828586e160>"
            ]
          },
          "metadata": {
            "tags": []
          },
          "execution_count": 146
        },
        {
          "output_type": "display_data",
          "data": {
            "image/png": "[encoded data removed]",
            "text/plain": [
              "<Figure size 432x288 with 2 Axes>"
            ]
          },
          "metadata": {
            "tags": []
          }
        }
      ]
    },
    {
      "cell_type": "code",
      "metadata": {
        "id": "Qe61N-NNccQp",
        "colab": {
          "base_uri": "https://localhost:8080/",
          "height": 573
        },
        "outputId": "75c3837a-c591-4cad-8171-87cf5d194723"
      },
      "source": [
        "corr_matrix.astype(np.float32).head()"
      ],
      "execution_count": null,
      "outputs": [
        {
          "output_type": "execute_result",
          "data": {
            "text/html": [
              "<div>\n",
              "<style scoped>\n",
              "    .dataframe tbody tr th:only-of-type {\n",
              "        vertical-align: middle;\n",
              "    }\n",
              "\n",
              "    .dataframe tbody tr th {\n",
              "        vertical-align: top;\n",
              "    }\n",
              "\n",
              "    .dataframe thead th {\n",
              "        text-align: right;\n",
              "    }\n",
              "</style>\n",
              "<table border=\"1\" class=\"dataframe\">\n",
              "  <thead>\n",
              "    <tr style=\"text-align: right;\">\n",
              "      <th></th>\n",
              "      <th>Unnamed: 0</th>\n",
              "      <th>Lever position (lp) [ ]</th>\n",
              "      <th>Ship speed (v) [knots]</th>\n",
              "      <th>Gas Turbine shaft torque (GTT) [kN m]</th>\n",
              "      <th>Gas Turbine rate of revolutions (GTn) [rpm]</th>\n",
              "      <th>Gas Generator rate of revolutions (GGn) [rpm]</th>\n",
              "      <th>Starboard Propeller Torque (Ts) [kN]</th>\n",
              "      <th>Port Propeller Torque (Tp) [kN]</th>\n",
              "      <th>HP Turbine exit temperature (T48) [C]</th>\n",
              "      <th>GT Compressor inlet air temperature (T1) [C]</th>\n",
              "      <th>GT Compressor outlet air temperature (T2) [C]</th>\n",
              "      <th>HP Turbine exit pressure (P48) [bar]</th>\n",
              "      <th>GT Compressor inlet air pressure (P1) [bar]</th>\n",
              "      <th>GT Compressor outlet air pressure (P2) [bar]</th>\n",
              "      <th>Gas Turbine exhaust gas pressure (Pexh) [bar]</th>\n",
              "      <th>Turbine Injecton Control (TIC) [%]</th>\n",
              "      <th>Fuel flow (mf) [kg/s]</th>\n",
              "      <th>GT Compressor decay state coefficient.</th>\n",
              "      <th>GT Turbine decay state coefficient.</th>\n",
              "    </tr>\n",
              "  </thead>\n",
              "  <tbody>\n",
              "    <tr>\n",
              "      <th>Unnamed: 0</th>\n",
              "      <td>1.000000</td>\n",
              "      <td>0.002340</td>\n",
              "      <td>0.002237</td>\n",
              "      <td>0.006241</td>\n",
              "      <td>0.006338</td>\n",
              "      <td>0.002081</td>\n",
              "      <td>0.005816</td>\n",
              "      <td>0.005816</td>\n",
              "      <td>0.006907</td>\n",
              "      <td>0.0</td>\n",
              "      <td>0.005475</td>\n",
              "      <td>0.006299</td>\n",
              "      <td>0.000000e+00</td>\n",
              "      <td>0.005952</td>\n",
              "      <td>0.006920</td>\n",
              "      <td>0.007610</td>\n",
              "      <td>0.007342</td>\n",
              "      <td>-0.001494</td>\n",
              "      <td>0.004072</td>\n",
              "    </tr>\n",
              "    <tr>\n",
              "      <th>Lever position (lp) [ ]</th>\n",
              "      <td>0.002340</td>\n",
              "      <td>1.000000</td>\n",
              "      <td>0.999915</td>\n",
              "      <td>0.960911</td>\n",
              "      <td>0.961725</td>\n",
              "      <td>0.986055</td>\n",
              "      <td>0.959239</td>\n",
              "      <td>0.959239</td>\n",
              "      <td>0.960749</td>\n",
              "      <td>0.0</td>\n",
              "      <td>0.982576</td>\n",
              "      <td>0.962875</td>\n",
              "      <td>-4.781148e-14</td>\n",
              "      <td>0.968923</td>\n",
              "      <td>0.953182</td>\n",
              "      <td>0.912612</td>\n",
              "      <td>0.931016</td>\n",
              "      <td>-0.002070</td>\n",
              "      <td>-0.001045</td>\n",
              "    </tr>\n",
              "    <tr>\n",
              "      <th>Ship speed (v) [knots]</th>\n",
              "      <td>0.002237</td>\n",
              "      <td>0.999915</td>\n",
              "      <td>1.000000</td>\n",
              "      <td>0.958136</td>\n",
              "      <td>0.960055</td>\n",
              "      <td>0.986651</td>\n",
              "      <td>0.956379</td>\n",
              "      <td>0.956379</td>\n",
              "      <td>0.958342</td>\n",
              "      <td>0.0</td>\n",
              "      <td>0.980985</td>\n",
              "      <td>0.960437</td>\n",
              "      <td>4.850010e-16</td>\n",
              "      <td>0.966792</td>\n",
              "      <td>0.950647</td>\n",
              "      <td>0.908985</td>\n",
              "      <td>0.927413</td>\n",
              "      <td>-0.002009</td>\n",
              "      <td>-0.001008</td>\n",
              "    </tr>\n",
              "    <tr>\n",
              "      <th>Gas Turbine shaft torque (GTT) [kN m]</th>\n",
              "      <td>0.006241</td>\n",
              "      <td>0.960911</td>\n",
              "      <td>0.958136</td>\n",
              "      <td>1.000000</td>\n",
              "      <td>0.989663</td>\n",
              "      <td>0.933165</td>\n",
              "      <td>0.999170</td>\n",
              "      <td>0.999170</td>\n",
              "      <td>0.991094</td>\n",
              "      <td>0.0</td>\n",
              "      <td>0.990291</td>\n",
              "      <td>0.998888</td>\n",
              "      <td>-1.268565e-15</td>\n",
              "      <td>0.997574</td>\n",
              "      <td>0.996014</td>\n",
              "      <td>0.977424</td>\n",
              "      <td>0.995014</td>\n",
              "      <td>0.000736</td>\n",
              "      <td>-0.000533</td>\n",
              "    </tr>\n",
              "    <tr>\n",
              "      <th>Gas Turbine rate of revolutions (GTn) [rpm]</th>\n",
              "      <td>0.006338</td>\n",
              "      <td>0.961725</td>\n",
              "      <td>0.960055</td>\n",
              "      <td>0.989663</td>\n",
              "      <td>1.000000</td>\n",
              "      <td>0.942944</td>\n",
              "      <td>0.988572</td>\n",
              "      <td>0.988572</td>\n",
              "      <td>0.979419</td>\n",
              "      <td>0.0</td>\n",
              "      <td>0.989157</td>\n",
              "      <td>0.995086</td>\n",
              "      <td>7.448827e-15</td>\n",
              "      <td>0.996008</td>\n",
              "      <td>0.994047</td>\n",
              "      <td>0.961876</td>\n",
              "      <td>0.980114</td>\n",
              "      <td>0.000156</td>\n",
              "      <td>-0.000677</td>\n",
              "    </tr>\n",
              "  </tbody>\n",
              "</table>\n",
              "</div>"
            ],
            "text/plain": [
              "                                             Unnamed: 0  ...  GT Turbine decay state coefficient.\n",
              "Unnamed: 0                                     1.000000  ...                             0.004072\n",
              "Lever position (lp) [ ]                        0.002340  ...                            -0.001045\n",
              "Ship speed (v) [knots]                         0.002237  ...                            -0.001008\n",
              "Gas Turbine shaft torque (GTT) [kN m]          0.006241  ...                            -0.000533\n",
              "Gas Turbine rate of revolutions (GTn) [rpm]    0.006338  ...                            -0.000677\n",
              "\n",
              "[5 rows x 19 columns]"
            ]
          },
          "metadata": {
            "tags": []
          },
          "execution_count": 147
        }
      ]
    },
    {
      "cell_type": "code",
      "metadata": {
        "id": "BQF2o7AMdKtH",
        "colab": {
          "base_uri": "https://localhost:8080/",
          "height": 360
        },
        "outputId": "82bbce94-2ea8-4732-cd70-522b1d104a08"
      },
      "source": [
        "sns.scatterplot(data['Gas Generator rate of revolutions (GGn) [rpm]'],data['Ship speed (v) [knots]'])"
      ],
      "execution_count": null,
      "outputs": [
        {
          "output_type": "stream",
          "text": [
            "/usr/local/lib/python3.6/dist-packages/seaborn/_decorators.py:43: FutureWarning: Pass the following variables as keyword args: x, y. From version 0.12, the only valid positional argument will be `data`, and passing other arguments without an explicit keyword will result in an error or misinterpretation.\n",
            "  FutureWarning\n"
          ],
          "name": "stderr"
        },
        {
          "output_type": "execute_result",
          "data": {
            "text/plain": [
              "<matplotlib.axes._subplots.AxesSubplot at 0x7f8291319b38>"
            ]
          },
          "metadata": {
            "tags": []
          },
          "execution_count": 148
        },
        {
          "output_type": "display_data",
          "data": {
            "image/png": "[encoded data removed]",
            "text/plain": [
              "<Figure size 432x288 with 1 Axes>"
            ]
          },
          "metadata": {
            "tags": []
          }
        }
      ]
    },
    {
      "cell_type": "code",
      "metadata": {
        "id": "aftDuOKJHD_N",
        "colab": {
          "base_uri": "https://localhost:8080/",
          "height": 360
        },
        "outputId": "52b189f1-abfc-40ef-af47-edb200b68442"
      },
      "source": [
        "sns.scatterplot(data['Gas Turbine shaft torque (GTT) [kN m]'],data['Port Propeller Torque (Tp) [kN]'])"
      ],
      "execution_count": null,
      "outputs": [
        {
          "output_type": "stream",
          "text": [
            "/usr/local/lib/python3.6/dist-packages/seaborn/_decorators.py:43: FutureWarning: Pass the following variables as keyword args: x, y. From version 0.12, the only valid positional argument will be `data`, and passing other arguments without an explicit keyword will result in an error or misinterpretation.\n",
            "  FutureWarning\n"
          ],
          "name": "stderr"
        },
        {
          "output_type": "execute_result",
          "data": {
            "text/plain": [
              "<matplotlib.axes._subplots.AxesSubplot at 0x7f8285877240>"
            ]
          },
          "metadata": {
            "tags": []
          },
          "execution_count": 149
        },
        {
          "output_type": "display_data",
          "data": {
            "image/png": "[encoded data removed]",
            "text/plain": [
              "<Figure size 432x288 with 1 Axes>"
            ]
          },
          "metadata": {
            "tags": []
          }
        }
      ]
    },
    {
      "cell_type": "code",
      "metadata": {
        "id": "-9u4cSAZd7tv"
      },
      "source": [
        "#SPLITTING THE DATA INTO TRANING & TEST SET (STRATIFIED SAMPLING NOT USED FOR SIMPLICITY)\n",
        "from sklearn.model_selection import train_test_split\n",
        "X=data.iloc[:,1:-2].values\n",
        "y=data.iloc[:,-2:].values\n",
        "\n",
        "x_train,x_test,y_train,y_test=train_test_split(X,y,test_size=0.2,random_state=42)"
      ],
      "execution_count": null,
      "outputs": []
    },
    {
      "cell_type": "code",
      "metadata": {
        "id": "B3ePRUK5HJF3"
      },
      "source": [
        "#SCALING & STANDARDISING THE INPUTS\n",
        "from sklearn.preprocessing import StandardScaler\n",
        "#standardising the inputs\n",
        "x_scaler=StandardScaler()\n",
        "x_train=x_scaler.fit_transform(x_train)\n",
        "x_test=x_scaler.transform(x_test)"
      ],
      "execution_count": null,
      "outputs": []
    },
    {
      "cell_type": "code",
      "metadata": {
        "id": "MKR_pBjLGZ6j",
        "colab": {
          "base_uri": "https://localhost:8080/"
        },
        "outputId": "ab424769-2fa6-4376-ee2c-12ea09cd5267"
      },
      "source": [
        "#developing a Deep Learning ANN model\n",
        "import tensorflow as tf\n",
        "from tensorflow import keras\n",
        "\n",
        "dl_model=keras.models.Sequential()\n",
        "dl_model.add(keras.layers.Dense(64,activation='relu'))\n",
        "dl_model.add(keras.layers.Dense(64,activation='relu'))\n",
        "dl_model.add(keras.layers.Dense(32,activation='relu'))\n",
        "dl_model.add(keras.layers.Dense(2,activation='sigmoid'))\n",
        "#compiling the DL model\n",
        "dl_model.compile(optimizer='adam',loss='mean_squared_error',metrics=[tf.keras.metrics.RootMeanSquaredError(),'accuracy'])\n",
        "#training the model\n",
        "history=dl_model.fit(x_train,y_train,epochs=100,validation_split=0.1,verbose=2)"
      ],
      "execution_count": null,
      "outputs": [
        {
          "output_type": "stream",
          "text": [
            "Epoch 1/100\n",
            "225/225 - 0s - loss: 0.0110 - root_mean_squared_error: 0.1048 - accuracy: 0.6994 - val_loss: 3.0698e-04 - val_root_mean_squared_error: 0.0175 - val_accuracy: 0.7437\n",
            "Epoch 2/100\n",
            "225/225 - 0s - loss: 2.7970e-04 - root_mean_squared_error: 0.0167 - accuracy: 0.7343 - val_loss: 2.7094e-04 - val_root_mean_squared_error: 0.0165 - val_accuracy: 0.7437\n",
            "Epoch 3/100\n",
            "225/225 - 0s - loss: 2.3657e-04 - root_mean_squared_error: 0.0154 - accuracy: 0.7343 - val_loss: 2.3106e-04 - val_root_mean_squared_error: 0.0152 - val_accuracy: 0.7437\n",
            "Epoch 4/100\n",
            "225/225 - 0s - loss: 2.0245e-04 - root_mean_squared_error: 0.0142 - accuracy: 0.7343 - val_loss: 1.8315e-04 - val_root_mean_squared_error: 0.0135 - val_accuracy: 0.7437\n",
            "Epoch 5/100\n",
            "225/225 - 0s - loss: 1.5830e-04 - root_mean_squared_error: 0.0126 - accuracy: 0.7343 - val_loss: 1.5134e-04 - val_root_mean_squared_error: 0.0123 - val_accuracy: 0.7437\n",
            "Epoch 6/100\n",
            "225/225 - 0s - loss: 1.3638e-04 - root_mean_squared_error: 0.0117 - accuracy: 0.7343 - val_loss: 1.2592e-04 - val_root_mean_squared_error: 0.0112 - val_accuracy: 0.7437\n",
            "Epoch 7/100\n",
            "225/225 - 0s - loss: 1.1705e-04 - root_mean_squared_error: 0.0108 - accuracy: 0.7343 - val_loss: 1.1359e-04 - val_root_mean_squared_error: 0.0107 - val_accuracy: 0.7437\n",
            "Epoch 8/100\n",
            "225/225 - 0s - loss: 1.0344e-04 - root_mean_squared_error: 0.0102 - accuracy: 0.7343 - val_loss: 9.5853e-05 - val_root_mean_squared_error: 0.0098 - val_accuracy: 0.7437\n",
            "Epoch 9/100\n",
            "225/225 - 0s - loss: 9.4275e-05 - root_mean_squared_error: 0.0097 - accuracy: 0.7343 - val_loss: 9.5199e-05 - val_root_mean_squared_error: 0.0098 - val_accuracy: 0.7437\n",
            "Epoch 10/100\n",
            "225/225 - 0s - loss: 8.8102e-05 - root_mean_squared_error: 0.0094 - accuracy: 0.7343 - val_loss: 8.5691e-05 - val_root_mean_squared_error: 0.0093 - val_accuracy: 0.7437\n",
            "Epoch 11/100\n",
            "225/225 - 0s - loss: 8.2833e-05 - root_mean_squared_error: 0.0091 - accuracy: 0.7343 - val_loss: 8.1671e-05 - val_root_mean_squared_error: 0.0090 - val_accuracy: 0.7437\n",
            "Epoch 12/100\n",
            "225/225 - 0s - loss: 7.8525e-05 - root_mean_squared_error: 0.0089 - accuracy: 0.7375 - val_loss: 7.4965e-05 - val_root_mean_squared_error: 0.0087 - val_accuracy: 0.7462\n",
            "Epoch 13/100\n",
            "225/225 - 0s - loss: 7.3471e-05 - root_mean_squared_error: 0.0086 - accuracy: 0.7407 - val_loss: 7.2623e-05 - val_root_mean_squared_error: 0.0085 - val_accuracy: 0.7538\n",
            "Epoch 14/100\n",
            "225/225 - 0s - loss: 6.7152e-05 - root_mean_squared_error: 0.0082 - accuracy: 0.7407 - val_loss: 6.1456e-05 - val_root_mean_squared_error: 0.0078 - val_accuracy: 0.7538\n",
            "Epoch 15/100\n",
            "225/225 - 0s - loss: 6.3505e-05 - root_mean_squared_error: 0.0080 - accuracy: 0.7462 - val_loss: 6.6658e-05 - val_root_mean_squared_error: 0.0082 - val_accuracy: 0.7525\n",
            "Epoch 16/100\n",
            "225/225 - 0s - loss: 5.7267e-05 - root_mean_squared_error: 0.0076 - accuracy: 0.7515 - val_loss: 5.3101e-05 - val_root_mean_squared_error: 0.0073 - val_accuracy: 0.7525\n",
            "Epoch 17/100\n",
            "225/225 - 0s - loss: 5.1663e-05 - root_mean_squared_error: 0.0072 - accuracy: 0.7578 - val_loss: 5.0774e-05 - val_root_mean_squared_error: 0.0071 - val_accuracy: 0.7750\n",
            "Epoch 18/100\n",
            "225/225 - 0s - loss: 4.8162e-05 - root_mean_squared_error: 0.0069 - accuracy: 0.7650 - val_loss: 4.1942e-05 - val_root_mean_squared_error: 0.0065 - val_accuracy: 0.7713\n",
            "Epoch 19/100\n",
            "225/225 - 0s - loss: 4.4997e-05 - root_mean_squared_error: 0.0067 - accuracy: 0.7724 - val_loss: 3.8834e-05 - val_root_mean_squared_error: 0.0062 - val_accuracy: 0.7725\n",
            "Epoch 20/100\n",
            "225/225 - 0s - loss: 4.1482e-05 - root_mean_squared_error: 0.0064 - accuracy: 0.7808 - val_loss: 4.2650e-05 - val_root_mean_squared_error: 0.0065 - val_accuracy: 0.8037\n",
            "Epoch 21/100\n",
            "225/225 - 0s - loss: 3.8957e-05 - root_mean_squared_error: 0.0062 - accuracy: 0.7936 - val_loss: 4.1897e-05 - val_root_mean_squared_error: 0.0065 - val_accuracy: 0.8025\n",
            "Epoch 22/100\n",
            "225/225 - 0s - loss: 3.6250e-05 - root_mean_squared_error: 0.0060 - accuracy: 0.8043 - val_loss: 3.1922e-05 - val_root_mean_squared_error: 0.0056 - val_accuracy: 0.8100\n",
            "Epoch 23/100\n",
            "225/225 - 0s - loss: 3.3763e-05 - root_mean_squared_error: 0.0058 - accuracy: 0.8197 - val_loss: 3.3249e-05 - val_root_mean_squared_error: 0.0058 - val_accuracy: 0.8350\n",
            "Epoch 24/100\n",
            "225/225 - 0s - loss: 3.2496e-05 - root_mean_squared_error: 0.0057 - accuracy: 0.8361 - val_loss: 3.0058e-05 - val_root_mean_squared_error: 0.0055 - val_accuracy: 0.8400\n",
            "Epoch 25/100\n",
            "225/225 - 0s - loss: 2.9725e-05 - root_mean_squared_error: 0.0055 - accuracy: 0.8483 - val_loss: 2.8663e-05 - val_root_mean_squared_error: 0.0054 - val_accuracy: 0.8200\n",
            "Epoch 26/100\n",
            "225/225 - 0s - loss: 2.8798e-05 - root_mean_squared_error: 0.0054 - accuracy: 0.8537 - val_loss: 2.5253e-05 - val_root_mean_squared_error: 0.0050 - val_accuracy: 0.8675\n",
            "Epoch 27/100\n",
            "225/225 - 0s - loss: 2.6073e-05 - root_mean_squared_error: 0.0051 - accuracy: 0.8714 - val_loss: 2.5242e-05 - val_root_mean_squared_error: 0.0050 - val_accuracy: 0.8737\n",
            "Epoch 28/100\n",
            "225/225 - 0s - loss: 2.5617e-05 - root_mean_squared_error: 0.0051 - accuracy: 0.8801 - val_loss: 2.1967e-05 - val_root_mean_squared_error: 0.0047 - val_accuracy: 0.8600\n",
            "Epoch 29/100\n",
            "225/225 - 0s - loss: 2.3532e-05 - root_mean_squared_error: 0.0049 - accuracy: 0.8846 - val_loss: 2.0661e-05 - val_root_mean_squared_error: 0.0045 - val_accuracy: 0.8950\n",
            "Epoch 30/100\n",
            "225/225 - 0s - loss: 2.1819e-05 - root_mean_squared_error: 0.0047 - accuracy: 0.8974 - val_loss: 1.9625e-05 - val_root_mean_squared_error: 0.0044 - val_accuracy: 0.8925\n",
            "Epoch 31/100\n",
            "225/225 - 0s - loss: 2.2265e-05 - root_mean_squared_error: 0.0047 - accuracy: 0.8976 - val_loss: 2.0530e-05 - val_root_mean_squared_error: 0.0045 - val_accuracy: 0.8575\n",
            "Epoch 32/100\n",
            "225/225 - 0s - loss: 2.0880e-05 - root_mean_squared_error: 0.0046 - accuracy: 0.9056 - val_loss: 1.6912e-05 - val_root_mean_squared_error: 0.0041 - val_accuracy: 0.9150\n",
            "Epoch 33/100\n",
            "225/225 - 0s - loss: 1.8132e-05 - root_mean_squared_error: 0.0043 - accuracy: 0.9146 - val_loss: 1.6650e-05 - val_root_mean_squared_error: 0.0041 - val_accuracy: 0.9087\n",
            "Epoch 34/100\n",
            "225/225 - 0s - loss: 1.6290e-05 - root_mean_squared_error: 0.0040 - accuracy: 0.9204 - val_loss: 1.6286e-05 - val_root_mean_squared_error: 0.0040 - val_accuracy: 0.9050\n",
            "Epoch 35/100\n",
            "225/225 - 0s - loss: 1.5631e-05 - root_mean_squared_error: 0.0040 - accuracy: 0.9251 - val_loss: 1.3431e-05 - val_root_mean_squared_error: 0.0037 - val_accuracy: 0.9225\n",
            "Epoch 36/100\n",
            "225/225 - 0s - loss: 1.4987e-05 - root_mean_squared_error: 0.0039 - accuracy: 0.9267 - val_loss: 1.7470e-05 - val_root_mean_squared_error: 0.0042 - val_accuracy: 0.9337\n",
            "Epoch 37/100\n",
            "225/225 - 0s - loss: 1.4127e-05 - root_mean_squared_error: 0.0038 - accuracy: 0.9353 - val_loss: 1.2171e-05 - val_root_mean_squared_error: 0.0035 - val_accuracy: 0.9212\n",
            "Epoch 38/100\n",
            "225/225 - 0s - loss: 1.3696e-05 - root_mean_squared_error: 0.0037 - accuracy: 0.9358 - val_loss: 1.3622e-05 - val_root_mean_squared_error: 0.0037 - val_accuracy: 0.9112\n",
            "Epoch 39/100\n",
            "225/225 - 0s - loss: 1.5371e-05 - root_mean_squared_error: 0.0039 - accuracy: 0.9300 - val_loss: 1.0958e-05 - val_root_mean_squared_error: 0.0033 - val_accuracy: 0.9350\n",
            "Epoch 40/100\n",
            "225/225 - 0s - loss: 1.3077e-05 - root_mean_squared_error: 0.0036 - accuracy: 0.9331 - val_loss: 1.1068e-05 - val_root_mean_squared_error: 0.0033 - val_accuracy: 0.9162\n",
            "Epoch 41/100\n",
            "225/225 - 0s - loss: 1.2949e-05 - root_mean_squared_error: 0.0036 - accuracy: 0.9360 - val_loss: 1.9466e-05 - val_root_mean_squared_error: 0.0044 - val_accuracy: 0.8925\n",
            "Epoch 42/100\n",
            "225/225 - 0s - loss: 1.2449e-05 - root_mean_squared_error: 0.0035 - accuracy: 0.9404 - val_loss: 1.2384e-05 - val_root_mean_squared_error: 0.0035 - val_accuracy: 0.9100\n",
            "Epoch 43/100\n",
            "225/225 - 0s - loss: 1.1520e-05 - root_mean_squared_error: 0.0034 - accuracy: 0.9407 - val_loss: 9.9609e-06 - val_root_mean_squared_error: 0.0032 - val_accuracy: 0.9362\n",
            "Epoch 44/100\n",
            "225/225 - 0s - loss: 1.2677e-05 - root_mean_squared_error: 0.0036 - accuracy: 0.9343 - val_loss: 9.5626e-06 - val_root_mean_squared_error: 0.0031 - val_accuracy: 0.9450\n",
            "Epoch 45/100\n",
            "225/225 - 0s - loss: 1.0415e-05 - root_mean_squared_error: 0.0032 - accuracy: 0.9447 - val_loss: 8.8550e-06 - val_root_mean_squared_error: 0.0030 - val_accuracy: 0.9375\n",
            "Epoch 46/100\n",
            "225/225 - 0s - loss: 1.0270e-05 - root_mean_squared_error: 0.0032 - accuracy: 0.9453 - val_loss: 9.1540e-06 - val_root_mean_squared_error: 0.0030 - val_accuracy: 0.9275\n",
            "Epoch 47/100\n",
            "225/225 - 0s - loss: 1.0414e-05 - root_mean_squared_error: 0.0032 - accuracy: 0.9432 - val_loss: 1.2831e-05 - val_root_mean_squared_error: 0.0036 - val_accuracy: 0.9087\n",
            "Epoch 48/100\n",
            "225/225 - 0s - loss: 1.1716e-05 - root_mean_squared_error: 0.0034 - accuracy: 0.9346 - val_loss: 8.5790e-06 - val_root_mean_squared_error: 0.0029 - val_accuracy: 0.9450\n",
            "Epoch 49/100\n",
            "225/225 - 0s - loss: 9.2178e-06 - root_mean_squared_error: 0.0030 - accuracy: 0.9456 - val_loss: 9.3878e-06 - val_root_mean_squared_error: 0.0031 - val_accuracy: 0.9150\n",
            "Epoch 50/100\n",
            "225/225 - 0s - loss: 9.1172e-06 - root_mean_squared_error: 0.0030 - accuracy: 0.9478 - val_loss: 9.7255e-06 - val_root_mean_squared_error: 0.0031 - val_accuracy: 0.9162\n",
            "Epoch 51/100\n",
            "225/225 - 0s - loss: 9.8229e-06 - root_mean_squared_error: 0.0031 - accuracy: 0.9460 - val_loss: 8.7083e-06 - val_root_mean_squared_error: 0.0030 - val_accuracy: 0.9212\n",
            "Epoch 52/100\n",
            "225/225 - 0s - loss: 8.3138e-06 - root_mean_squared_error: 0.0029 - accuracy: 0.9485 - val_loss: 6.8146e-06 - val_root_mean_squared_error: 0.0026 - val_accuracy: 0.9513\n",
            "Epoch 53/100\n",
            "225/225 - 0s - loss: 8.8946e-06 - root_mean_squared_error: 0.0030 - accuracy: 0.9494 - val_loss: 6.9249e-06 - val_root_mean_squared_error: 0.0026 - val_accuracy: 0.9513\n",
            "Epoch 54/100\n",
            "225/225 - 0s - loss: 7.7582e-06 - root_mean_squared_error: 0.0028 - accuracy: 0.9513 - val_loss: 7.8561e-06 - val_root_mean_squared_error: 0.0028 - val_accuracy: 0.9538\n",
            "Epoch 55/100\n",
            "225/225 - 0s - loss: 8.6317e-06 - root_mean_squared_error: 0.0029 - accuracy: 0.9463 - val_loss: 1.1069e-05 - val_root_mean_squared_error: 0.0033 - val_accuracy: 0.9513\n",
            "Epoch 56/100\n",
            "225/225 - 0s - loss: 8.4947e-06 - root_mean_squared_error: 0.0029 - accuracy: 0.9457 - val_loss: 7.7218e-06 - val_root_mean_squared_error: 0.0028 - val_accuracy: 0.9375\n",
            "Epoch 57/100\n",
            "225/225 - 0s - loss: 6.9458e-06 - root_mean_squared_error: 0.0026 - accuracy: 0.9564 - val_loss: 5.6467e-06 - val_root_mean_squared_error: 0.0024 - val_accuracy: 0.9337\n",
            "Epoch 58/100\n",
            "225/225 - 0s - loss: 8.0869e-06 - root_mean_squared_error: 0.0028 - accuracy: 0.9471 - val_loss: 7.6058e-06 - val_root_mean_squared_error: 0.0028 - val_accuracy: 0.9625\n",
            "Epoch 59/100\n",
            "225/225 - 0s - loss: 8.0300e-06 - root_mean_squared_error: 0.0028 - accuracy: 0.9528 - val_loss: 7.2514e-06 - val_root_mean_squared_error: 0.0027 - val_accuracy: 0.9463\n",
            "Epoch 60/100\n",
            "225/225 - 0s - loss: 6.6606e-06 - root_mean_squared_error: 0.0026 - accuracy: 0.9554 - val_loss: 5.7167e-06 - val_root_mean_squared_error: 0.0024 - val_accuracy: 0.9513\n",
            "Epoch 61/100\n",
            "225/225 - 0s - loss: 7.0001e-06 - root_mean_squared_error: 0.0026 - accuracy: 0.9535 - val_loss: 4.8315e-06 - val_root_mean_squared_error: 0.0022 - val_accuracy: 0.9513\n",
            "Epoch 62/100\n",
            "225/225 - 0s - loss: 5.8258e-06 - root_mean_squared_error: 0.0024 - accuracy: 0.9550 - val_loss: 4.5664e-06 - val_root_mean_squared_error: 0.0021 - val_accuracy: 0.9550\n",
            "Epoch 63/100\n",
            "225/225 - 0s - loss: 6.3686e-06 - root_mean_squared_error: 0.0025 - accuracy: 0.9568 - val_loss: 4.7507e-06 - val_root_mean_squared_error: 0.0022 - val_accuracy: 0.9488\n",
            "Epoch 64/100\n",
            "225/225 - 0s - loss: 7.6138e-06 - root_mean_squared_error: 0.0028 - accuracy: 0.9444 - val_loss: 6.4889e-06 - val_root_mean_squared_error: 0.0025 - val_accuracy: 0.9200\n",
            "Epoch 65/100\n",
            "225/225 - 0s - loss: 5.6805e-06 - root_mean_squared_error: 0.0024 - accuracy: 0.9563 - val_loss: 4.1664e-06 - val_root_mean_squared_error: 0.0020 - val_accuracy: 0.9575\n",
            "Epoch 66/100\n",
            "225/225 - 0s - loss: 5.7285e-06 - root_mean_squared_error: 0.0024 - accuracy: 0.9556 - val_loss: 4.3654e-06 - val_root_mean_squared_error: 0.0021 - val_accuracy: 0.9613\n",
            "Epoch 67/100\n",
            "225/225 - 0s - loss: 4.8319e-06 - root_mean_squared_error: 0.0022 - accuracy: 0.9625 - val_loss: 6.0956e-06 - val_root_mean_squared_error: 0.0025 - val_accuracy: 0.9463\n",
            "Epoch 68/100\n",
            "225/225 - 0s - loss: 6.3344e-06 - root_mean_squared_error: 0.0025 - accuracy: 0.9496 - val_loss: 6.4650e-06 - val_root_mean_squared_error: 0.0025 - val_accuracy: 0.9262\n",
            "Epoch 69/100\n",
            "225/225 - 0s - loss: 4.7067e-06 - root_mean_squared_error: 0.0022 - accuracy: 0.9586 - val_loss: 5.6425e-06 - val_root_mean_squared_error: 0.0024 - val_accuracy: 0.9312\n",
            "Epoch 70/100\n",
            "225/225 - 0s - loss: 5.5073e-06 - root_mean_squared_error: 0.0023 - accuracy: 0.9556 - val_loss: 4.5651e-06 - val_root_mean_squared_error: 0.0021 - val_accuracy: 0.9450\n",
            "Epoch 71/100\n",
            "225/225 - 0s - loss: 5.2260e-06 - root_mean_squared_error: 0.0023 - accuracy: 0.9575 - val_loss: 4.7334e-06 - val_root_mean_squared_error: 0.0022 - val_accuracy: 0.9638\n",
            "Epoch 72/100\n",
            "225/225 - 0s - loss: 4.6065e-06 - root_mean_squared_error: 0.0021 - accuracy: 0.9601 - val_loss: 4.0583e-06 - val_root_mean_squared_error: 0.0020 - val_accuracy: 0.9575\n",
            "Epoch 73/100\n",
            "225/225 - 0s - loss: 5.2682e-06 - root_mean_squared_error: 0.0023 - accuracy: 0.9590 - val_loss: 8.5975e-06 - val_root_mean_squared_error: 0.0029 - val_accuracy: 0.9200\n",
            "Epoch 74/100\n",
            "225/225 - 0s - loss: 4.2846e-06 - root_mean_squared_error: 0.0021 - accuracy: 0.9629 - val_loss: 2.6491e-06 - val_root_mean_squared_error: 0.0016 - val_accuracy: 0.9700\n",
            "Epoch 75/100\n",
            "225/225 - 0s - loss: 4.5082e-06 - root_mean_squared_error: 0.0021 - accuracy: 0.9619 - val_loss: 6.0595e-06 - val_root_mean_squared_error: 0.0025 - val_accuracy: 0.9237\n",
            "Epoch 76/100\n",
            "225/225 - 0s - loss: 5.8768e-06 - root_mean_squared_error: 0.0024 - accuracy: 0.9565 - val_loss: 3.4430e-06 - val_root_mean_squared_error: 0.0019 - val_accuracy: 0.9663\n",
            "Epoch 77/100\n",
            "225/225 - 0s - loss: 4.6371e-06 - root_mean_squared_error: 0.0022 - accuracy: 0.9643 - val_loss: 6.8765e-06 - val_root_mean_squared_error: 0.0026 - val_accuracy: 0.9200\n",
            "Epoch 78/100\n",
            "225/225 - 0s - loss: 3.7667e-06 - root_mean_squared_error: 0.0019 - accuracy: 0.9644 - val_loss: 3.3271e-06 - val_root_mean_squared_error: 0.0018 - val_accuracy: 0.9563\n",
            "Epoch 79/100\n",
            "225/225 - 0s - loss: 4.2986e-06 - root_mean_squared_error: 0.0021 - accuracy: 0.9639 - val_loss: 3.1663e-06 - val_root_mean_squared_error: 0.0018 - val_accuracy: 0.9575\n",
            "Epoch 80/100\n",
            "225/225 - 0s - loss: 3.9256e-06 - root_mean_squared_error: 0.0020 - accuracy: 0.9642 - val_loss: 4.6846e-06 - val_root_mean_squared_error: 0.0022 - val_accuracy: 0.9488\n",
            "Epoch 81/100\n",
            "225/225 - 0s - loss: 3.9461e-06 - root_mean_squared_error: 0.0020 - accuracy: 0.9617 - val_loss: 3.6337e-06 - val_root_mean_squared_error: 0.0019 - val_accuracy: 0.9550\n",
            "Epoch 82/100\n",
            "225/225 - 0s - loss: 4.5092e-06 - root_mean_squared_error: 0.0021 - accuracy: 0.9596 - val_loss: 2.5880e-06 - val_root_mean_squared_error: 0.0016 - val_accuracy: 0.9550\n",
            "Epoch 83/100\n",
            "225/225 - 0s - loss: 3.7338e-06 - root_mean_squared_error: 0.0019 - accuracy: 0.9647 - val_loss: 4.4039e-06 - val_root_mean_squared_error: 0.0021 - val_accuracy: 0.9613\n",
            "Epoch 84/100\n",
            "225/225 - 0s - loss: 3.5432e-06 - root_mean_squared_error: 0.0019 - accuracy: 0.9696 - val_loss: 2.8983e-06 - val_root_mean_squared_error: 0.0017 - val_accuracy: 0.9625\n",
            "Epoch 85/100\n",
            "225/225 - 0s - loss: 4.8415e-06 - root_mean_squared_error: 0.0022 - accuracy: 0.9606 - val_loss: 2.9783e-06 - val_root_mean_squared_error: 0.0017 - val_accuracy: 0.9625\n",
            "Epoch 86/100\n",
            "225/225 - 0s - loss: 3.7403e-06 - root_mean_squared_error: 0.0019 - accuracy: 0.9665 - val_loss: 3.4037e-06 - val_root_mean_squared_error: 0.0018 - val_accuracy: 0.9625\n",
            "Epoch 87/100\n",
            "225/225 - 0s - loss: 3.6554e-06 - root_mean_squared_error: 0.0019 - accuracy: 0.9688 - val_loss: 2.4512e-06 - val_root_mean_squared_error: 0.0016 - val_accuracy: 0.9563\n",
            "Epoch 88/100\n",
            "225/225 - 0s - loss: 4.0609e-06 - root_mean_squared_error: 0.0020 - accuracy: 0.9640 - val_loss: 3.1697e-06 - val_root_mean_squared_error: 0.0018 - val_accuracy: 0.9700\n",
            "Epoch 89/100\n",
            "225/225 - 0s - loss: 2.9056e-06 - root_mean_squared_error: 0.0017 - accuracy: 0.9696 - val_loss: 2.9955e-06 - val_root_mean_squared_error: 0.0017 - val_accuracy: 0.9450\n",
            "Epoch 90/100\n",
            "225/225 - 0s - loss: 3.0616e-06 - root_mean_squared_error: 0.0017 - accuracy: 0.9653 - val_loss: 3.8621e-06 - val_root_mean_squared_error: 0.0020 - val_accuracy: 0.9663\n",
            "Epoch 91/100\n",
            "225/225 - 0s - loss: 3.3445e-06 - root_mean_squared_error: 0.0018 - accuracy: 0.9675 - val_loss: 2.8780e-06 - val_root_mean_squared_error: 0.0017 - val_accuracy: 0.9638\n",
            "Epoch 92/100\n",
            "225/225 - 0s - loss: 3.4048e-06 - root_mean_squared_error: 0.0018 - accuracy: 0.9651 - val_loss: 1.9116e-06 - val_root_mean_squared_error: 0.0014 - val_accuracy: 0.9725\n",
            "Epoch 93/100\n",
            "225/225 - 0s - loss: 2.9635e-06 - root_mean_squared_error: 0.0017 - accuracy: 0.9681 - val_loss: 2.6450e-06 - val_root_mean_squared_error: 0.0016 - val_accuracy: 0.9650\n",
            "Epoch 94/100\n",
            "225/225 - 0s - loss: 3.3875e-06 - root_mean_squared_error: 0.0018 - accuracy: 0.9640 - val_loss: 1.1724e-05 - val_root_mean_squared_error: 0.0034 - val_accuracy: 0.9075\n",
            "Epoch 95/100\n",
            "225/225 - 0s - loss: 4.1750e-06 - root_mean_squared_error: 0.0020 - accuracy: 0.9657 - val_loss: 3.7122e-06 - val_root_mean_squared_error: 0.0019 - val_accuracy: 0.9475\n",
            "Epoch 96/100\n",
            "225/225 - 0s - loss: 2.8297e-06 - root_mean_squared_error: 0.0017 - accuracy: 0.9704 - val_loss: 2.2783e-06 - val_root_mean_squared_error: 0.0015 - val_accuracy: 0.9663\n",
            "Epoch 97/100\n",
            "225/225 - 0s - loss: 2.5123e-06 - root_mean_squared_error: 0.0016 - accuracy: 0.9704 - val_loss: 2.9170e-06 - val_root_mean_squared_error: 0.0017 - val_accuracy: 0.9600\n",
            "Epoch 98/100\n",
            "225/225 - 0s - loss: 3.2533e-06 - root_mean_squared_error: 0.0018 - accuracy: 0.9676 - val_loss: 1.8662e-06 - val_root_mean_squared_error: 0.0014 - val_accuracy: 0.9663\n",
            "Epoch 99/100\n",
            "225/225 - 0s - loss: 2.1800e-06 - root_mean_squared_error: 0.0015 - accuracy: 0.9739 - val_loss: 2.0490e-06 - val_root_mean_squared_error: 0.0014 - val_accuracy: 0.9625\n",
            "Epoch 100/100\n",
            "225/225 - 0s - loss: 4.7424e-06 - root_mean_squared_error: 0.0022 - accuracy: 0.9628 - val_loss: 1.9108e-06 - val_root_mean_squared_error: 0.0014 - val_accuracy: 0.9675\n"
          ],
          "name": "stdout"
        }
      ]
    },
    {
      "cell_type": "code",
      "metadata": {
        "id": "5JyteTBRJWDp",
        "colab": {
          "base_uri": "https://localhost:8080/",
          "height": 285
        },
        "outputId": "ef776ac7-9223-4540-a71a-77fcecc6d99a"
      },
      "source": [
        "#PLOTTING TRAINING ACCURACY VS LOSS\n",
        "plt.plot(np.arange(0,100,1),history.history['loss'])\n",
        "plt.plot(np.arange(0,100,1),history.history['accuracy'])\n",
        "plt.xlabel('Epochs')\n",
        "plt.ylabel('Units')\n",
        "plt.legend(['Loss','Accuracy'])\n",
        "plt.show()"
      ],
      "execution_count": null,
      "outputs": [
        {
          "output_type": "display_data",
          "data": {
            "image/png": "[encoded data removed]",
            "text/plain": [
              "<Figure size 432x288 with 1 Axes>"
            ]
          },
          "metadata": {
            "tags": []
          }
        }
      ]
    },
    {
      "cell_type": "code",
      "metadata": {
        "id": "TcLKjh_Cr7fn",
        "colab": {
          "base_uri": "https://localhost:8080/"
        },
        "outputId": "cf4a98fe-f939-43b8-aecf-d1653f98504c"
      },
      "source": [
        "#evaluating Model Performance on test set\n",
        "loss,RMSE,accuracy=dl_model.evaluate(x_test,y_test)\n",
        "print('Test Loss {}'.format(loss))\n",
        "print('Test RMSE {}'.format(RMSE))\n",
        "print('Test Accuracy {}'.format(accuracy))"
      ],
      "execution_count": null,
      "outputs": [
        {
          "output_type": "stream",
          "text": [
            "63/63 [==============================] - 0s 1ms/step - loss: 1.9072e-06 - root_mean_squared_error: 0.0014 - accuracy: 0.9775\n",
            "Test Loss 1.9071804899795097e-06\n",
            "Test RMSE 0.0013810070231556892\n",
            "Test Accuracy 0.9775000214576721\n"
          ],
          "name": "stdout"
        }
      ]
    },
    {
      "cell_type": "markdown",
      "metadata": {
        "id": "Rw9fe0UmuwtP"
      },
      "source": [
        "USING RANDOM FOREST REGRESSOR "
      ]
    },
    {
      "cell_type": "code",
      "metadata": {
        "id": "mXN2yQFWs0f6",
        "colab": {
          "base_uri": "https://localhost:8080/"
        },
        "outputId": "3f82337b-bf21-4fb3-d4dd-70c420aa3a2f"
      },
      "source": [
        "from sklearn.ensemble import RandomForestRegressor\n",
        "rfr_model=RandomForestRegressor(n_estimators=100)\n",
        "rfr_model.fit(x_train,y_train)"
      ],
      "execution_count": null,
      "outputs": [
        {
          "output_type": "execute_result",
          "data": {
            "text/plain": [
              "RandomForestRegressor(bootstrap=True, ccp_alpha=0.0, criterion='mse',\n",
              "                      max_depth=None, max_features='auto', max_leaf_nodes=None,\n",
              "                      max_samples=None, min_impurity_decrease=0.0,\n",
              "                      min_impurity_split=None, min_samples_leaf=1,\n",
              "                      min_samples_split=2, min_weight_fraction_leaf=0.0,\n",
              "                      n_estimators=100, n_jobs=None, oob_score=False,\n",
              "                      random_state=None, verbose=0, warm_start=False)"
            ]
          },
          "metadata": {
            "tags": []
          },
          "execution_count": 155
        }
      ]
    },
    {
      "cell_type": "code",
      "metadata": {
        "id": "TSFJTnkovYMY",
        "colab": {
          "base_uri": "https://localhost:8080/"
        },
        "outputId": "62a5e056-e48e-40e7-e34b-27f97860fe11"
      },
      "source": [
        "#sklearn library doesnt have RMSE so instead MSE is calculated and RMSE is derived from it\n",
        "from sklearn.metrics import mean_squared_error\n",
        "rfr_loss=mean_squared_error(y_test,rfr_model.predict(x_test))\n",
        "print('Random Forest Regressor RMSE Loss {}'.format(np.sqrt(rfr_loss)))"
      ],
      "execution_count": null,
      "outputs": [
        {
          "output_type": "stream",
          "text": [
            "Random Forest Regressor RMSE Loss 0.0011302832331704592\n"
          ],
          "name": "stdout"
        }
      ]
    },
    {
      "cell_type": "markdown",
      "metadata": {
        "id": "SssPYIuDwlx9"
      },
      "source": [
        "POLYNOMIAL REGRESSION MODEL"
      ]
    },
    {
      "cell_type": "code",
      "metadata": {
        "id": "ZhtR6JyQwElW",
        "colab": {
          "base_uri": "https://localhost:8080/"
        },
        "outputId": "5e058c30-d624-4e23-8ffa-3b6c22e63f89"
      },
      "source": [
        "from sklearn.linear_model import LinearRegression\n",
        "from sklearn.preprocessing import PolynomialFeatures\n",
        "poly=PolynomialFeatures(degree=3)\n",
        "x_train_poly=poly.fit_transform(x_train)\n",
        "x_test_poly=poly.fit_transform(x_test)\n",
        "\n",
        "poly_regressor=LinearRegression()\n",
        "poly_regressor.fit(x_train_poly,y_train)"
      ],
      "execution_count": null,
      "outputs": [
        {
          "output_type": "execute_result",
          "data": {
            "text/plain": [
              "LinearRegression(copy_X=True, fit_intercept=True, n_jobs=None, normalize=False)"
            ]
          },
          "metadata": {
            "tags": []
          },
          "execution_count": 157
        }
      ]
    },
    {
      "cell_type": "code",
      "metadata": {
        "id": "7D-yRFnL1rKE",
        "colab": {
          "base_uri": "https://localhost:8080/"
        },
        "outputId": "794b8b28-c95e-4339-fee3-00f6d69637a0"
      },
      "source": [
        "poly_loss=mean_squared_error(y_test,poly_regressor.predict(x_test_poly))\n",
        "print('Polynomial RMSE loss {}'.format(np.sqrt(poly_loss)))"
      ],
      "execution_count": null,
      "outputs": [
        {
          "output_type": "stream",
          "text": [
            "Polynomial RMSE loss 1.2816378380601837e-05\n"
          ],
          "name": "stdout"
        }
      ]
    },
    {
      "cell_type": "code",
      "metadata": {
        "id": "jiHsUphq2FQh",
        "colab": {
          "base_uri": "https://localhost:8080/"
        },
        "outputId": "64798d63-4348-41a8-c584-706f2dfe326e"
      },
      "source": [
        "rfr_loss>poly_loss"
      ],
      "execution_count": null,
      "outputs": [
        {
          "output_type": "execute_result",
          "data": {
            "text/plain": [
              "True"
            ]
          },
          "metadata": {
            "tags": []
          },
          "execution_count": 159
        }
      ]
    },
    {
      "cell_type": "markdown",
      "metadata": {
        "id": "QspHi_Yc8wdm"
      },
      "source": [
        "DIMENSIONALITY REDUCTION"
      ]
    },
    {
      "cell_type": "code",
      "metadata": {
        "id": "Ldj4CjlG2XAo",
        "colab": {
          "base_uri": "https://localhost:8080/"
        },
        "outputId": "199a29d2-662c-495a-e1a8-bfe365d739ec"
      },
      "source": [
        "#finding constant columns in the dataset\n",
        "\n",
        "columns=data.columns.values\n",
        "for i in columns:\n",
        "    print('{0} has {1} unique values'.format(i,data[i].nunique()))"
      ],
      "execution_count": null,
      "outputs": [
        {
          "output_type": "stream",
          "text": [
            "Unnamed: 0 has 10000 unique values\n",
            "Lever position (lp) [ ] has 9 unique values\n",
            "Ship speed (v) [knots] has 9 unique values\n",
            "Gas Turbine shaft torque (GTT) [kN m] has 9634 unique values\n",
            "Gas Turbine rate of revolutions (GTn) [rpm] has 3422 unique values\n",
            "Gas Generator rate of revolutions (GGn) [rpm] has 9926 unique values\n",
            "Starboard Propeller Torque (Ts) [kN] has 3880 unique values\n",
            "Port Propeller Torque (Tp) [kN] has 3880 unique values\n",
            "HP Turbine exit temperature (T48) [C] has 9890 unique values\n",
            "GT Compressor inlet air temperature (T1) [C] has 1 unique values\n",
            "GT Compressor outlet air temperature (T2) [C] has 9694 unique values\n",
            "HP Turbine exit pressure (P48) [bar] has 523 unique values\n",
            "GT Compressor inlet air pressure (P1) [bar] has 1 unique values\n",
            "GT Compressor outlet air pressure (P2) [bar] has 4000 unique values\n",
            "Gas Turbine exhaust gas pressure (Pexh) [bar] has 19 unique values\n",
            "Turbine Injecton Control (TIC) [%] has 7403 unique values\n",
            "Fuel flow (mf) [kg/s] has 694 unique values\n",
            "GT Compressor decay state coefficient. has 51 unique values\n",
            "GT Turbine decay state coefficient. has 26 unique values\n"
          ],
          "name": "stdout"
        }
      ]
    },
    {
      "cell_type": "code",
      "metadata": {
        "id": "c8UevHnTAEQq"
      },
      "source": [
        "data.drop(columns=['GT Compressor inlet air temperature (T1) [C]','GT Compressor inlet air pressure (P1) [bar]'],inplace=True,)"
      ],
      "execution_count": null,
      "outputs": []
    },
    {
      "cell_type": "code",
      "metadata": {
        "id": "fN-Cn7_YAcD_",
        "colab": {
          "base_uri": "https://localhost:8080/",
          "height": 537
        },
        "outputId": "13832ea5-fad3-4c52-ada3-e56aa9f2b88c"
      },
      "source": [
        "sns.heatmap(data.corr(),vmin=-1,vmax=1,center=0,square=True)"
      ],
      "execution_count": null,
      "outputs": [
        {
          "output_type": "execute_result",
          "data": {
            "text/plain": [
              "<matplotlib.axes._subplots.AxesSubplot at 0x7f8292c72668>"
            ]
          },
          "metadata": {
            "tags": []
          },
          "execution_count": 162
        },
        {
          "output_type": "display_data",
          "data": {
            "image/png": "[encoded data removed]",
            "text/plain": [
              "<Figure size 432x288 with 2 Axes>"
            ]
          },
          "metadata": {
            "tags": []
          }
        }
      ]
    },
    {
      "cell_type": "code",
      "metadata": {
        "id": "rOs4ZRB4BkyU",
        "colab": {
          "base_uri": "https://localhost:8080/"
        },
        "outputId": "22319179-af31-4956-c89c-ea0aa3c079ea"
      },
      "source": [
        "corr_matrix['Fuel flow (mf) [kg/s]'][2]"
      ],
      "execution_count": null,
      "outputs": [
        {
          "output_type": "execute_result",
          "data": {
            "text/plain": [
              "0.9274125311865465"
            ]
          },
          "metadata": {
            "tags": []
          },
          "execution_count": 163
        }
      ]
    },
    {
      "cell_type": "code",
      "metadata": {
        "id": "iu2idNoWA9mY"
      },
      "source": [
        "#FUNCION TO FINDOUT HIGHLY CORRELATED FEATURES\n",
        "def corr_features(dataframe,alpha):\n",
        "    corr_mat=dataframe.corr()\n",
        "    column_values=dataframe.columns.tolist()\n",
        "    corr_list=[]\n",
        "    for i in column_values:\n",
        "        for j in range(corr_mat.shape[0]):\n",
        "            if corr_mat[i][j]>alpha:\n",
        "                corr_list.append([i,column_values[j]])\n",
        "            else:\n",
        "                pass\n",
        "        corr_mat.drop(labels=i,axis=0,inplace=True)\n",
        "    return corr_list       "
      ],
      "execution_count": null,
      "outputs": []
    },
    {
      "cell_type": "code",
      "metadata": {
        "id": "K4JcxN_thZX-"
      },
      "source": [
        "matpot=corr_features(data,alpha=0.96)"
      ],
      "execution_count": null,
      "outputs": []
    },
    {
      "cell_type": "code",
      "metadata": {
        "id": "MlqoUGDWh7-L",
        "colab": {
          "base_uri": "https://localhost:8080/"
        },
        "outputId": "7ca27247-68c3-415d-c6f4-bb70149b96c2"
      },
      "source": [
        "matpot"
      ],
      "execution_count": null,
      "outputs": [
        {
          "output_type": "execute_result",
          "data": {
            "text/plain": [
              "[['Unnamed: 0', 'Unnamed: 0'],\n",
              " ['Lever position (lp) [ ]', 'Unnamed: 0'],\n",
              " ['Lever position (lp) [ ]', 'Lever position (lp) [ ]'],\n",
              " ['Lever position (lp) [ ]', 'Ship speed (v) [knots]'],\n",
              " ['Lever position (lp) [ ]', 'Gas Turbine shaft torque (GTT) [kN m]'],\n",
              " ['Lever position (lp) [ ]', 'Gas Turbine rate of revolutions (GTn) [rpm]'],\n",
              " ['Lever position (lp) [ ]', 'Port Propeller Torque (Tp) [kN]'],\n",
              " ['Lever position (lp) [ ]', 'HP Turbine exit temperature (T48) [C]'],\n",
              " ['Lever position (lp) [ ]', 'GT Compressor outlet air temperature (T2) [C]'],\n",
              " ['Lever position (lp) [ ]', 'HP Turbine exit pressure (P48) [bar]'],\n",
              " ['Ship speed (v) [knots]', 'Unnamed: 0'],\n",
              " ['Ship speed (v) [knots]', 'Ship speed (v) [knots]'],\n",
              " ['Ship speed (v) [knots]', 'Gas Turbine shaft torque (GTT) [kN m]'],\n",
              " ['Ship speed (v) [knots]', 'Port Propeller Torque (Tp) [kN]'],\n",
              " ['Ship speed (v) [knots]', 'HP Turbine exit temperature (T48) [C]'],\n",
              " ['Ship speed (v) [knots]', 'GT Compressor outlet air temperature (T2) [C]'],\n",
              " ['Gas Turbine shaft torque (GTT) [kN m]', 'Unnamed: 0'],\n",
              " ['Gas Turbine shaft torque (GTT) [kN m]', 'Lever position (lp) [ ]'],\n",
              " ['Gas Turbine shaft torque (GTT) [kN m]',\n",
              "  'Gas Turbine shaft torque (GTT) [kN m]'],\n",
              " ['Gas Turbine shaft torque (GTT) [kN m]',\n",
              "  'Gas Turbine rate of revolutions (GTn) [rpm]'],\n",
              " ['Gas Turbine shaft torque (GTT) [kN m]',\n",
              "  'Gas Generator rate of revolutions (GGn) [rpm]'],\n",
              " ['Gas Turbine shaft torque (GTT) [kN m]',\n",
              "  'Starboard Propeller Torque (Ts) [kN]'],\n",
              " ['Gas Turbine shaft torque (GTT) [kN m]', 'Port Propeller Torque (Tp) [kN]'],\n",
              " ['Gas Turbine shaft torque (GTT) [kN m]',\n",
              "  'HP Turbine exit temperature (T48) [C]'],\n",
              " ['Gas Turbine shaft torque (GTT) [kN m]',\n",
              "  'GT Compressor outlet air temperature (T2) [C]'],\n",
              " ['Gas Turbine shaft torque (GTT) [kN m]',\n",
              "  'HP Turbine exit pressure (P48) [bar]'],\n",
              " ['Gas Turbine shaft torque (GTT) [kN m]',\n",
              "  'GT Compressor outlet air pressure (P2) [bar]'],\n",
              " ['Gas Turbine rate of revolutions (GTn) [rpm]', 'Unnamed: 0'],\n",
              " ['Gas Turbine rate of revolutions (GTn) [rpm]', 'Ship speed (v) [knots]'],\n",
              " ['Gas Turbine rate of revolutions (GTn) [rpm]',\n",
              "  'Gas Turbine shaft torque (GTT) [kN m]'],\n",
              " ['Gas Turbine rate of revolutions (GTn) [rpm]',\n",
              "  'Gas Turbine rate of revolutions (GTn) [rpm]'],\n",
              " ['Gas Turbine rate of revolutions (GTn) [rpm]',\n",
              "  'Gas Generator rate of revolutions (GGn) [rpm]'],\n",
              " ['Gas Turbine rate of revolutions (GTn) [rpm]',\n",
              "  'Starboard Propeller Torque (Ts) [kN]'],\n",
              " ['Gas Turbine rate of revolutions (GTn) [rpm]',\n",
              "  'Port Propeller Torque (Tp) [kN]'],\n",
              " ['Gas Turbine rate of revolutions (GTn) [rpm]',\n",
              "  'HP Turbine exit temperature (T48) [C]'],\n",
              " ['Gas Turbine rate of revolutions (GTn) [rpm]',\n",
              "  'GT Compressor outlet air temperature (T2) [C]'],\n",
              " ['Gas Turbine rate of revolutions (GTn) [rpm]',\n",
              "  'HP Turbine exit pressure (P48) [bar]'],\n",
              " ['Gas Generator rate of revolutions (GGn) [rpm]', 'Unnamed: 0'],\n",
              " ['Gas Generator rate of revolutions (GGn) [rpm]',\n",
              "  'Gas Turbine rate of revolutions (GTn) [rpm]'],\n",
              " ['Starboard Propeller Torque (Ts) [kN]', 'Unnamed: 0'],\n",
              " ['Starboard Propeller Torque (Ts) [kN]', 'Lever position (lp) [ ]'],\n",
              " ['Starboard Propeller Torque (Ts) [kN]', 'Ship speed (v) [knots]'],\n",
              " ['Starboard Propeller Torque (Ts) [kN]',\n",
              "  'Gas Turbine shaft torque (GTT) [kN m]'],\n",
              " ['Starboard Propeller Torque (Ts) [kN]',\n",
              "  'Gas Turbine rate of revolutions (GTn) [rpm]'],\n",
              " ['Starboard Propeller Torque (Ts) [kN]',\n",
              "  'Gas Generator rate of revolutions (GGn) [rpm]'],\n",
              " ['Starboard Propeller Torque (Ts) [kN]',\n",
              "  'Starboard Propeller Torque (Ts) [kN]'],\n",
              " ['Starboard Propeller Torque (Ts) [kN]', 'Port Propeller Torque (Tp) [kN]'],\n",
              " ['Starboard Propeller Torque (Ts) [kN]',\n",
              "  'HP Turbine exit temperature (T48) [C]'],\n",
              " ['Port Propeller Torque (Tp) [kN]', 'Unnamed: 0'],\n",
              " ['Port Propeller Torque (Tp) [kN]', 'Lever position (lp) [ ]'],\n",
              " ['Port Propeller Torque (Tp) [kN]', 'Ship speed (v) [knots]'],\n",
              " ['Port Propeller Torque (Tp) [kN]', 'Gas Turbine shaft torque (GTT) [kN m]'],\n",
              " ['Port Propeller Torque (Tp) [kN]',\n",
              "  'Gas Turbine rate of revolutions (GTn) [rpm]'],\n",
              " ['Port Propeller Torque (Tp) [kN]',\n",
              "  'Gas Generator rate of revolutions (GGn) [rpm]'],\n",
              " ['Port Propeller Torque (Tp) [kN]', 'Starboard Propeller Torque (Ts) [kN]'],\n",
              " ['Port Propeller Torque (Tp) [kN]', 'Port Propeller Torque (Tp) [kN]'],\n",
              " ['HP Turbine exit temperature (T48) [C]', 'Unnamed: 0'],\n",
              " ['HP Turbine exit temperature (T48) [C]', 'Lever position (lp) [ ]'],\n",
              " ['HP Turbine exit temperature (T48) [C]', 'Ship speed (v) [knots]'],\n",
              " ['HP Turbine exit temperature (T48) [C]',\n",
              "  'Gas Turbine shaft torque (GTT) [kN m]'],\n",
              " ['HP Turbine exit temperature (T48) [C]',\n",
              "  'Gas Turbine rate of revolutions (GTn) [rpm]'],\n",
              " ['HP Turbine exit temperature (T48) [C]',\n",
              "  'Gas Generator rate of revolutions (GGn) [rpm]'],\n",
              " ['HP Turbine exit temperature (T48) [C]',\n",
              "  'Starboard Propeller Torque (Ts) [kN]'],\n",
              " ['GT Compressor outlet air temperature (T2) [C]', 'Unnamed: 0'],\n",
              " ['GT Compressor outlet air temperature (T2) [C]', 'Lever position (lp) [ ]'],\n",
              " ['GT Compressor outlet air temperature (T2) [C]', 'Ship speed (v) [knots]'],\n",
              " ['GT Compressor outlet air temperature (T2) [C]',\n",
              "  'Gas Turbine shaft torque (GTT) [kN m]'],\n",
              " ['GT Compressor outlet air temperature (T2) [C]',\n",
              "  'Gas Generator rate of revolutions (GGn) [rpm]'],\n",
              " ['HP Turbine exit pressure (P48) [bar]', 'Unnamed: 0'],\n",
              " ['HP Turbine exit pressure (P48) [bar]', 'Lever position (lp) [ ]'],\n",
              " ['HP Turbine exit pressure (P48) [bar]', 'Ship speed (v) [knots]'],\n",
              " ['HP Turbine exit pressure (P48) [bar]',\n",
              "  'Gas Turbine shaft torque (GTT) [kN m]'],\n",
              " ['HP Turbine exit pressure (P48) [bar]',\n",
              "  'Gas Turbine rate of revolutions (GTn) [rpm]'],\n",
              " ['GT Compressor outlet air pressure (P2) [bar]', 'Unnamed: 0'],\n",
              " ['GT Compressor outlet air pressure (P2) [bar]', 'Lever position (lp) [ ]'],\n",
              " ['GT Compressor outlet air pressure (P2) [bar]', 'Ship speed (v) [knots]'],\n",
              " ['GT Compressor outlet air pressure (P2) [bar]',\n",
              "  'Gas Turbine shaft torque (GTT) [kN m]'],\n",
              " ['Gas Turbine exhaust gas pressure (Pexh) [bar]', 'Unnamed: 0'],\n",
              " ['Gas Turbine exhaust gas pressure (Pexh) [bar]', 'Lever position (lp) [ ]'],\n",
              " ['Gas Turbine exhaust gas pressure (Pexh) [bar]', 'Ship speed (v) [knots]'],\n",
              " ['Turbine Injecton Control (TIC) [%]', 'Unnamed: 0'],\n",
              " ['Turbine Injecton Control (TIC) [%]', 'Lever position (lp) [ ]'],\n",
              " ['Fuel flow (mf) [kg/s]', 'Unnamed: 0'],\n",
              " ['GT Compressor decay state coefficient.', 'Unnamed: 0'],\n",
              " ['GT Turbine decay state coefficient.', 'Unnamed: 0']]"
            ]
          },
          "metadata": {
            "tags": []
          },
          "execution_count": 195
        }
      ]
    },
    {
      "cell_type": "code",
      "metadata": {
        "id": "Vi7GNqj1dYpx",
        "colab": {
          "base_uri": "https://localhost:8080/"
        },
        "outputId": "cdb3d711-5284-4d8c-97df-1733c626ace5"
      },
      "source": [
        "corr_matrix=data.corr()\n",
        "corr_matrix.shape"
      ],
      "execution_count": null,
      "outputs": [
        {
          "output_type": "execute_result",
          "data": {
            "text/plain": [
              "(17, 17)"
            ]
          },
          "metadata": {
            "tags": []
          },
          "execution_count": 181
        }
      ]
    },
    {
      "cell_type": "code",
      "metadata": {
        "id": "ZygDXSRhgf60",
        "colab": {
          "base_uri": "https://localhost:8080/"
        },
        "outputId": "91ada6c4-0c99-48c1-d8a3-e7599124f28a"
      },
      "source": [
        "corr_matrix.columns"
      ],
      "execution_count": null,
      "outputs": [
        {
          "output_type": "execute_result",
          "data": {
            "text/plain": [
              "Index(['Unnamed: 0', 'Lever position (lp) [ ]', 'Ship speed (v) [knots]',\n",
              "       'Gas Turbine shaft torque (GTT) [kN m]',\n",
              "       'Gas Turbine rate of revolutions (GTn) [rpm]',\n",
              "       'Gas Generator rate of revolutions (GGn) [rpm]',\n",
              "       'Starboard Propeller Torque (Ts) [kN]',\n",
              "       'Port Propeller Torque (Tp) [kN]',\n",
              "       'HP Turbine exit temperature (T48) [C]',\n",
              "       'GT Compressor outlet air temperature (T2) [C]',\n",
              "       'HP Turbine exit pressure (P48) [bar]',\n",
              "       'GT Compressor outlet air pressure (P2) [bar]',\n",
              "       'Gas Turbine exhaust gas pressure (Pexh) [bar]',\n",
              "       'Turbine Injecton Control (TIC) [%]', 'Fuel flow (mf) [kg/s]',\n",
              "       'GT Compressor decay state coefficient.',\n",
              "       'GT Turbine decay state coefficient.'],\n",
              "      dtype='object')"
            ]
          },
          "metadata": {
            "tags": []
          },
          "execution_count": 182
        }
      ]
    },
    {
      "cell_type": "code",
      "metadata": {
        "id": "ECJw9W6ggkvZ"
      },
      "source": [
        "corr_matrix.drop(labels=['Unnamed: 0'],axis=0,inplace=True)"
      ],
      "execution_count": null,
      "outputs": []
    },
    {
      "cell_type": "code",
      "metadata": {
        "id": "WjUGiXhxlAbp",
        "colab": {
          "base_uri": "https://localhost:8080/"
        },
        "outputId": "3ec596a7-56cb-42aa-a05e-4e18a20b58c0"
      },
      "source": [
        "corr_matrix['Lever position (lp) [ ]'][1]"
      ],
      "execution_count": null,
      "outputs": [
        {
          "output_type": "execute_result",
          "data": {
            "text/plain": [
              "0.9999152488751933"
            ]
          },
          "metadata": {
            "tags": []
          },
          "execution_count": 192
        }
      ]
    },
    {
      "cell_type": "code",
      "metadata": {
        "id": "cHEpdxTNgy5s",
        "colab": {
          "base_uri": "https://localhost:8080/",
          "height": 643
        },
        "outputId": "cfe437b9-772b-4398-abad-99cc76132e0f"
      },
      "source": [
        "corr_matrix.head()"
      ],
      "execution_count": null,
      "outputs": [
        {
          "output_type": "execute_result",
          "data": {
            "text/html": [
              "<div>\n",
              "<style scoped>\n",
              "    .dataframe tbody tr th:only-of-type {\n",
              "        vertical-align: middle;\n",
              "    }\n",
              "\n",
              "    .dataframe tbody tr th {\n",
              "        vertical-align: top;\n",
              "    }\n",
              "\n",
              "    .dataframe thead th {\n",
              "        text-align: right;\n",
              "    }\n",
              "</style>\n",
              "<table border=\"1\" class=\"dataframe\">\n",
              "  <thead>\n",
              "    <tr style=\"text-align: right;\">\n",
              "      <th></th>\n",
              "      <th>Unnamed: 0</th>\n",
              "      <th>Lever position (lp) [ ]</th>\n",
              "      <th>Ship speed (v) [knots]</th>\n",
              "      <th>Gas Turbine shaft torque (GTT) [kN m]</th>\n",
              "      <th>Gas Turbine rate of revolutions (GTn) [rpm]</th>\n",
              "      <th>Gas Generator rate of revolutions (GGn) [rpm]</th>\n",
              "      <th>Starboard Propeller Torque (Ts) [kN]</th>\n",
              "      <th>Port Propeller Torque (Tp) [kN]</th>\n",
              "      <th>HP Turbine exit temperature (T48) [C]</th>\n",
              "      <th>GT Compressor outlet air temperature (T2) [C]</th>\n",
              "      <th>HP Turbine exit pressure (P48) [bar]</th>\n",
              "      <th>GT Compressor outlet air pressure (P2) [bar]</th>\n",
              "      <th>Gas Turbine exhaust gas pressure (Pexh) [bar]</th>\n",
              "      <th>Turbine Injecton Control (TIC) [%]</th>\n",
              "      <th>Fuel flow (mf) [kg/s]</th>\n",
              "      <th>GT Compressor decay state coefficient.</th>\n",
              "      <th>GT Turbine decay state coefficient.</th>\n",
              "    </tr>\n",
              "  </thead>\n",
              "  <tbody>\n",
              "    <tr>\n",
              "      <th>Lever position (lp) [ ]</th>\n",
              "      <td>0.002340</td>\n",
              "      <td>1.000000</td>\n",
              "      <td>0.999915</td>\n",
              "      <td>0.960911</td>\n",
              "      <td>0.961725</td>\n",
              "      <td>0.986055</td>\n",
              "      <td>0.959239</td>\n",
              "      <td>0.959239</td>\n",
              "      <td>0.960749</td>\n",
              "      <td>0.982576</td>\n",
              "      <td>0.962875</td>\n",
              "      <td>0.968923</td>\n",
              "      <td>0.953182</td>\n",
              "      <td>0.912612</td>\n",
              "      <td>0.931016</td>\n",
              "      <td>-0.002070</td>\n",
              "      <td>-0.001045</td>\n",
              "    </tr>\n",
              "    <tr>\n",
              "      <th>Ship speed (v) [knots]</th>\n",
              "      <td>0.002237</td>\n",
              "      <td>0.999915</td>\n",
              "      <td>1.000000</td>\n",
              "      <td>0.958136</td>\n",
              "      <td>0.960055</td>\n",
              "      <td>0.986651</td>\n",
              "      <td>0.956379</td>\n",
              "      <td>0.956379</td>\n",
              "      <td>0.958342</td>\n",
              "      <td>0.980985</td>\n",
              "      <td>0.960437</td>\n",
              "      <td>0.966792</td>\n",
              "      <td>0.950647</td>\n",
              "      <td>0.908985</td>\n",
              "      <td>0.927413</td>\n",
              "      <td>-0.002009</td>\n",
              "      <td>-0.001008</td>\n",
              "    </tr>\n",
              "    <tr>\n",
              "      <th>Gas Turbine shaft torque (GTT) [kN m]</th>\n",
              "      <td>0.006241</td>\n",
              "      <td>0.960911</td>\n",
              "      <td>0.958136</td>\n",
              "      <td>1.000000</td>\n",
              "      <td>0.989663</td>\n",
              "      <td>0.933165</td>\n",
              "      <td>0.999170</td>\n",
              "      <td>0.999170</td>\n",
              "      <td>0.991094</td>\n",
              "      <td>0.990291</td>\n",
              "      <td>0.998888</td>\n",
              "      <td>0.997574</td>\n",
              "      <td>0.996014</td>\n",
              "      <td>0.977424</td>\n",
              "      <td>0.995014</td>\n",
              "      <td>0.000736</td>\n",
              "      <td>-0.000533</td>\n",
              "    </tr>\n",
              "    <tr>\n",
              "      <th>Gas Turbine rate of revolutions (GTn) [rpm]</th>\n",
              "      <td>0.006338</td>\n",
              "      <td>0.961725</td>\n",
              "      <td>0.960055</td>\n",
              "      <td>0.989663</td>\n",
              "      <td>1.000000</td>\n",
              "      <td>0.942944</td>\n",
              "      <td>0.988572</td>\n",
              "      <td>0.988572</td>\n",
              "      <td>0.979419</td>\n",
              "      <td>0.989157</td>\n",
              "      <td>0.995086</td>\n",
              "      <td>0.996008</td>\n",
              "      <td>0.994047</td>\n",
              "      <td>0.961876</td>\n",
              "      <td>0.980114</td>\n",
              "      <td>0.000156</td>\n",
              "      <td>-0.000677</td>\n",
              "    </tr>\n",
              "    <tr>\n",
              "      <th>Gas Generator rate of revolutions (GGn) [rpm]</th>\n",
              "      <td>0.002081</td>\n",
              "      <td>0.986055</td>\n",
              "      <td>0.986651</td>\n",
              "      <td>0.933165</td>\n",
              "      <td>0.942944</td>\n",
              "      <td>1.000000</td>\n",
              "      <td>0.929888</td>\n",
              "      <td>0.929888</td>\n",
              "      <td>0.939507</td>\n",
              "      <td>0.966665</td>\n",
              "      <td>0.937563</td>\n",
              "      <td>0.946019</td>\n",
              "      <td>0.924375</td>\n",
              "      <td>0.878552</td>\n",
              "      <td>0.896886</td>\n",
              "      <td>-0.020852</td>\n",
              "      <td>0.008703</td>\n",
              "    </tr>\n",
              "  </tbody>\n",
              "</table>\n",
              "</div>"
            ],
            "text/plain": [
              "                                               Unnamed: 0  ...  GT Turbine decay state coefficient.\n",
              "Lever position (lp) [ ]                          0.002340  ...                            -0.001045\n",
              "Ship speed (v) [knots]                           0.002237  ...                            -0.001008\n",
              "Gas Turbine shaft torque (GTT) [kN m]            0.006241  ...                            -0.000533\n",
              "Gas Turbine rate of revolutions (GTn) [rpm]      0.006338  ...                            -0.000677\n",
              "Gas Generator rate of revolutions (GGn) [rpm]    0.002081  ...                             0.008703\n",
              "\n",
              "[5 rows x 17 columns]"
            ]
          },
          "metadata": {
            "tags": []
          },
          "execution_count": 185
        }
      ]
    },
    {
      "cell_type": "code",
      "metadata": {
        "id": "p6oSs4PWDaej",
        "colab": {
          "base_uri": "https://localhost:8080/",
          "height": 330
        },
        "outputId": "9af560ca-96da-49ec-92e8-8e40a833ed5e"
      },
      "source": [
        "copy=data.copy()\n",
        "copy.head()"
      ],
      "execution_count": null,
      "outputs": [
        {
          "output_type": "execute_result",
          "data": {
            "text/html": [
              "<div>\n",
              "<style scoped>\n",
              "    .dataframe tbody tr th:only-of-type {\n",
              "        vertical-align: middle;\n",
              "    }\n",
              "\n",
              "    .dataframe tbody tr th {\n",
              "        vertical-align: top;\n",
              "    }\n",
              "\n",
              "    .dataframe thead th {\n",
              "        text-align: right;\n",
              "    }\n",
              "</style>\n",
              "<table border=\"1\" class=\"dataframe\">\n",
              "  <thead>\n",
              "    <tr style=\"text-align: right;\">\n",
              "      <th></th>\n",
              "      <th>Unnamed: 0</th>\n",
              "      <th>Lever position (lp) [ ]</th>\n",
              "      <th>Ship speed (v) [knots]</th>\n",
              "      <th>Gas Turbine shaft torque (GTT) [kN m]</th>\n",
              "      <th>Gas Turbine rate of revolutions (GTn) [rpm]</th>\n",
              "      <th>Gas Generator rate of revolutions (GGn) [rpm]</th>\n",
              "      <th>Starboard Propeller Torque (Ts) [kN]</th>\n",
              "      <th>Port Propeller Torque (Tp) [kN]</th>\n",
              "      <th>HP Turbine exit temperature (T48) [C]</th>\n",
              "      <th>GT Compressor outlet air temperature (T2) [C]</th>\n",
              "      <th>HP Turbine exit pressure (P48) [bar]</th>\n",
              "      <th>GT Compressor outlet air pressure (P2) [bar]</th>\n",
              "      <th>Gas Turbine exhaust gas pressure (Pexh) [bar]</th>\n",
              "      <th>Turbine Injecton Control (TIC) [%]</th>\n",
              "      <th>Fuel flow (mf) [kg/s]</th>\n",
              "      <th>GT Compressor decay state coefficient.</th>\n",
              "      <th>GT Turbine decay state coefficient.</th>\n",
              "    </tr>\n",
              "  </thead>\n",
              "  <tbody>\n",
              "    <tr>\n",
              "      <th>0</th>\n",
              "      <td>0</td>\n",
              "      <td>9.300</td>\n",
              "      <td>27.0</td>\n",
              "      <td>72762.205</td>\n",
              "      <td>3560.393</td>\n",
              "      <td>9753.812</td>\n",
              "      <td>644.806</td>\n",
              "      <td>644.806</td>\n",
              "      <td>1086.583</td>\n",
              "      <td>780.304</td>\n",
              "      <td>4.523</td>\n",
              "      <td>22.879</td>\n",
              "      <td>1.050</td>\n",
              "      <td>90.435</td>\n",
              "      <td>1.790</td>\n",
              "      <td>0.973</td>\n",
              "      <td>0.978</td>\n",
              "    </tr>\n",
              "    <tr>\n",
              "      <th>1</th>\n",
              "      <td>1</td>\n",
              "      <td>6.175</td>\n",
              "      <td>18.0</td>\n",
              "      <td>29760.552</td>\n",
              "      <td>2306.825</td>\n",
              "      <td>8780.012</td>\n",
              "      <td>246.011</td>\n",
              "      <td>246.011</td>\n",
              "      <td>776.921</td>\n",
              "      <td>665.511</td>\n",
              "      <td>2.518</td>\n",
              "      <td>13.438</td>\n",
              "      <td>1.030</td>\n",
              "      <td>34.596</td>\n",
              "      <td>0.685</td>\n",
              "      <td>0.995</td>\n",
              "      <td>0.975</td>\n",
              "    </tr>\n",
              "    <tr>\n",
              "      <th>2</th>\n",
              "      <td>2</td>\n",
              "      <td>3.144</td>\n",
              "      <td>9.0</td>\n",
              "      <td>8375.774</td>\n",
              "      <td>1386.739</td>\n",
              "      <td>7051.621</td>\n",
              "      <td>60.318</td>\n",
              "      <td>60.318</td>\n",
              "      <td>589.764</td>\n",
              "      <td>580.587</td>\n",
              "      <td>1.392</td>\n",
              "      <td>7.566</td>\n",
              "      <td>1.020</td>\n",
              "      <td>12.477</td>\n",
              "      <td>0.247</td>\n",
              "      <td>0.980</td>\n",
              "      <td>0.978</td>\n",
              "    </tr>\n",
              "    <tr>\n",
              "      <th>3</th>\n",
              "      <td>3</td>\n",
              "      <td>3.144</td>\n",
              "      <td>9.0</td>\n",
              "      <td>8377.589</td>\n",
              "      <td>1386.748</td>\n",
              "      <td>7098.469</td>\n",
              "      <td>60.339</td>\n",
              "      <td>60.339</td>\n",
              "      <td>570.651</td>\n",
              "      <td>576.565</td>\n",
              "      <td>1.390</td>\n",
              "      <td>7.409</td>\n",
              "      <td>1.021</td>\n",
              "      <td>11.678</td>\n",
              "      <td>0.231</td>\n",
              "      <td>0.984</td>\n",
              "      <td>1.000</td>\n",
              "    </tr>\n",
              "    <tr>\n",
              "      <th>4</th>\n",
              "      <td>4</td>\n",
              "      <td>6.175</td>\n",
              "      <td>18.0</td>\n",
              "      <td>29761.091</td>\n",
              "      <td>2306.825</td>\n",
              "      <td>8782.024</td>\n",
              "      <td>246.021</td>\n",
              "      <td>246.021</td>\n",
              "      <td>769.855</td>\n",
              "      <td>663.682</td>\n",
              "      <td>2.518</td>\n",
              "      <td>13.374</td>\n",
              "      <td>1.031</td>\n",
              "      <td>34.154</td>\n",
              "      <td>0.676</td>\n",
              "      <td>0.998</td>\n",
              "      <td>0.980</td>\n",
              "    </tr>\n",
              "  </tbody>\n",
              "</table>\n",
              "</div>"
            ],
            "text/plain": [
              "   Unnamed: 0  ...  GT Turbine decay state coefficient.\n",
              "0           0  ...                                0.978\n",
              "1           1  ...                                0.975\n",
              "2           2  ...                                0.978\n",
              "3           3  ...                                1.000\n",
              "4           4  ...                                0.980\n",
              "\n",
              "[5 rows x 17 columns]"
            ]
          },
          "metadata": {
            "tags": []
          },
          "execution_count": 166
        }
      ]
    },
    {
      "cell_type": "code",
      "metadata": {
        "id": "jGjd1nfgDb8r"
      },
      "source": [
        "copy.drop(index=0,inplace=True)"
      ],
      "execution_count": null,
      "outputs": []
    },
    {
      "cell_type": "code",
      "metadata": {
        "id": "WhdRAYTHeJcX",
        "colab": {
          "base_uri": "https://localhost:8080/",
          "height": 330
        },
        "outputId": "a19a233e-a1f7-4202-afec-f1fef15f1430"
      },
      "source": [
        "copy.head()"
      ],
      "execution_count": null,
      "outputs": [
        {
          "output_type": "execute_result",
          "data": {
            "text/html": [
              "<div>\n",
              "<style scoped>\n",
              "    .dataframe tbody tr th:only-of-type {\n",
              "        vertical-align: middle;\n",
              "    }\n",
              "\n",
              "    .dataframe tbody tr th {\n",
              "        vertical-align: top;\n",
              "    }\n",
              "\n",
              "    .dataframe thead th {\n",
              "        text-align: right;\n",
              "    }\n",
              "</style>\n",
              "<table border=\"1\" class=\"dataframe\">\n",
              "  <thead>\n",
              "    <tr style=\"text-align: right;\">\n",
              "      <th></th>\n",
              "      <th>Unnamed: 0</th>\n",
              "      <th>Lever position (lp) [ ]</th>\n",
              "      <th>Ship speed (v) [knots]</th>\n",
              "      <th>Gas Turbine shaft torque (GTT) [kN m]</th>\n",
              "      <th>Gas Turbine rate of revolutions (GTn) [rpm]</th>\n",
              "      <th>Gas Generator rate of revolutions (GGn) [rpm]</th>\n",
              "      <th>Starboard Propeller Torque (Ts) [kN]</th>\n",
              "      <th>Port Propeller Torque (Tp) [kN]</th>\n",
              "      <th>HP Turbine exit temperature (T48) [C]</th>\n",
              "      <th>GT Compressor outlet air temperature (T2) [C]</th>\n",
              "      <th>HP Turbine exit pressure (P48) [bar]</th>\n",
              "      <th>GT Compressor outlet air pressure (P2) [bar]</th>\n",
              "      <th>Gas Turbine exhaust gas pressure (Pexh) [bar]</th>\n",
              "      <th>Turbine Injecton Control (TIC) [%]</th>\n",
              "      <th>Fuel flow (mf) [kg/s]</th>\n",
              "      <th>GT Compressor decay state coefficient.</th>\n",
              "      <th>GT Turbine decay state coefficient.</th>\n",
              "    </tr>\n",
              "  </thead>\n",
              "  <tbody>\n",
              "    <tr>\n",
              "      <th>1</th>\n",
              "      <td>1</td>\n",
              "      <td>6.175</td>\n",
              "      <td>18.0</td>\n",
              "      <td>29760.552</td>\n",
              "      <td>2306.825</td>\n",
              "      <td>8780.012</td>\n",
              "      <td>246.011</td>\n",
              "      <td>246.011</td>\n",
              "      <td>776.921</td>\n",
              "      <td>665.511</td>\n",
              "      <td>2.518</td>\n",
              "      <td>13.438</td>\n",
              "      <td>1.030</td>\n",
              "      <td>34.596</td>\n",
              "      <td>0.685</td>\n",
              "      <td>0.995</td>\n",
              "      <td>0.975</td>\n",
              "    </tr>\n",
              "    <tr>\n",
              "      <th>2</th>\n",
              "      <td>2</td>\n",
              "      <td>3.144</td>\n",
              "      <td>9.0</td>\n",
              "      <td>8375.774</td>\n",
              "      <td>1386.739</td>\n",
              "      <td>7051.621</td>\n",
              "      <td>60.318</td>\n",
              "      <td>60.318</td>\n",
              "      <td>589.764</td>\n",
              "      <td>580.587</td>\n",
              "      <td>1.392</td>\n",
              "      <td>7.566</td>\n",
              "      <td>1.020</td>\n",
              "      <td>12.477</td>\n",
              "      <td>0.247</td>\n",
              "      <td>0.980</td>\n",
              "      <td>0.978</td>\n",
              "    </tr>\n",
              "    <tr>\n",
              "      <th>3</th>\n",
              "      <td>3</td>\n",
              "      <td>3.144</td>\n",
              "      <td>9.0</td>\n",
              "      <td>8377.589</td>\n",
              "      <td>1386.748</td>\n",
              "      <td>7098.469</td>\n",
              "      <td>60.339</td>\n",
              "      <td>60.339</td>\n",
              "      <td>570.651</td>\n",
              "      <td>576.565</td>\n",
              "      <td>1.390</td>\n",
              "      <td>7.409</td>\n",
              "      <td>1.021</td>\n",
              "      <td>11.678</td>\n",
              "      <td>0.231</td>\n",
              "      <td>0.984</td>\n",
              "      <td>1.000</td>\n",
              "    </tr>\n",
              "    <tr>\n",
              "      <th>4</th>\n",
              "      <td>4</td>\n",
              "      <td>6.175</td>\n",
              "      <td>18.0</td>\n",
              "      <td>29761.091</td>\n",
              "      <td>2306.825</td>\n",
              "      <td>8782.024</td>\n",
              "      <td>246.021</td>\n",
              "      <td>246.021</td>\n",
              "      <td>769.855</td>\n",
              "      <td>663.682</td>\n",
              "      <td>2.518</td>\n",
              "      <td>13.374</td>\n",
              "      <td>1.031</td>\n",
              "      <td>34.154</td>\n",
              "      <td>0.676</td>\n",
              "      <td>0.998</td>\n",
              "      <td>0.980</td>\n",
              "    </tr>\n",
              "    <tr>\n",
              "      <th>5</th>\n",
              "      <td>5</td>\n",
              "      <td>7.148</td>\n",
              "      <td>21.0</td>\n",
              "      <td>38990.324</td>\n",
              "      <td>2678.068</td>\n",
              "      <td>9126.509</td>\n",
              "      <td>332.301</td>\n",
              "      <td>332.301</td>\n",
              "      <td>837.934</td>\n",
              "      <td>693.706</td>\n",
              "      <td>2.972</td>\n",
              "      <td>15.649</td>\n",
              "      <td>1.035</td>\n",
              "      <td>44.862</td>\n",
              "      <td>0.888</td>\n",
              "      <td>0.967</td>\n",
              "      <td>0.980</td>\n",
              "    </tr>\n",
              "  </tbody>\n",
              "</table>\n",
              "</div>"
            ],
            "text/plain": [
              "   Unnamed: 0  ...  GT Turbine decay state coefficient.\n",
              "1           1  ...                                0.975\n",
              "2           2  ...                                0.978\n",
              "3           3  ...                                1.000\n",
              "4           4  ...                                0.980\n",
              "5           5  ...                                0.980\n",
              "\n",
              "[5 rows x 17 columns]"
            ]
          },
          "metadata": {
            "tags": []
          },
          "execution_count": 168
        }
      ]
    },
    {
      "cell_type": "code",
      "metadata": {
        "id": "u1T-Tsy5eLDg"
      },
      "source": [
        ""
      ],
      "execution_count": null,
      "outputs": []
    }
  ]
}